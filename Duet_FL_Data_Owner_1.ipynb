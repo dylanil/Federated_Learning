{
 "cells": [
  {
   "cell_type": "markdown",
   "id": "continent-climb",
   "metadata": {},
   "source": [
    "# Part 1: Launch a Duet Server and upload data"
   ]
  },
  {
   "cell_type": "code",
   "execution_count": 1,
   "id": "parental-classics",
   "metadata": {},
   "outputs": [
    {
     "name": "stdout",
     "output_type": "stream",
     "text": [
      "🎤  🎸  ♪♪♪ Starting Duet ♫♫♫  🎻  🎹\n",
      "\n",
      "♫♫♫ >\u001b[93m DISCLAIMER\u001b[0m: \u001b[1mDuet is an experimental feature currently in beta.\n",
      "♫♫♫ > Use at your own risk.\n",
      "\u001b[0m\n",
      "\u001b[1m\n",
      "    > ❤️ \u001b[91mLove\u001b[0m \u001b[92mDuet\u001b[0m? \u001b[93mPlease\u001b[0m \u001b[94mconsider\u001b[0m \u001b[95msupporting\u001b[0m \u001b[91mour\u001b[0m \u001b[93mcommunity!\u001b[0m\n",
      "    > https://github.com/sponsors/OpenMined\u001b[1m\n",
      "\n",
      "♫♫♫ > Punching through firewall to OpenGrid Network Node at:\n",
      "♫♫♫ > http://ec2-18-218-7-180.us-east-2.compute.amazonaws.com:5000\n",
      "♫♫♫ >\n",
      "♫♫♫ > ...waiting for response from OpenGrid Network... \n",
      "♫♫♫ > \u001b[92mDONE!\u001b[0m\n",
      "♫♫♫ > Duet Server ID: \u001b[1m3f57845e06356684367141bc05b590a4\u001b[0m\n",
      "\n",
      "♫♫♫ > \u001b[95mSTEP 1:\u001b[0m Send the following code to your Duet Partner!\n",
      "\n",
      "import syft as sy\n",
      "duet = sy.duet(\"\u001b[1m3f57845e06356684367141bc05b590a4\u001b[0m\")\n",
      "\n",
      "♫♫♫ > \u001b[95mSTEP 2:\u001b[0m Ask your partner for their Client ID and enter it below!\n",
      "\n",
      "♫♫♫ > Connecting...\n"
     ]
    },
    {
     "name": "stderr",
     "output_type": "stream",
     "text": [
      "C:\\Users\\dylan\\anaconda3\\envs\\new_pysyft\\lib\\site-packages\\aiortc\\rtcdtlstransport.py:211: CryptographyDeprecationWarning: This version of cryptography contains a temporary pyOpenSSL fallback path. Upgrade pyOpenSSL now.\n",
      "  _openssl_assert(lib.SSL_CTX_use_certificate(ctx, self._cert._x509) == 1)  # type: ignore\n",
      "C:\\Users\\dylan\\anaconda3\\envs\\new_pysyft\\lib\\site-packages\\aiortc\\rtcdtlstransport.py:186: CryptographyDeprecationWarning: This version of cryptography contains a temporary pyOpenSSL fallback path. Upgrade pyOpenSSL now.\n",
      "  value=certificate_digest(self._cert._x509),  # type: ignore\n"
     ]
    },
    {
     "name": "stdout",
     "output_type": "stream",
     "text": [
      "\n",
      "♫♫♫ > \u001b[92mCONNECTED!\u001b[0m\n",
      "\n",
      "`searchable` is deprecated please use `pointable` in futurees: 0  Request Handlers: 0                                \n",
      "`searchable` is deprecated please use `pointable` in futurees: 2  Request Handlers: 0                                \n",
      "♫♫♫ > DUET LIVE STATUS  *  Objects: 6  Requests: 0   Messages: 176  Request Handlers: 1                                \r"
     ]
    }
   ],
   "source": [
    "import syft as sy\n",
    "duet = sy.launch_duet()"
   ]
  },
  {
   "cell_type": "code",
   "execution_count": 10,
   "id": "dying-switch",
   "metadata": {},
   "outputs": [],
   "source": [
    "import torch as th\n",
    "from torch.utils.data import Dataset, DataLoader\n",
    "import numpy as np\n",
    "import pandas as pd"
   ]
  },
  {
   "cell_type": "markdown",
   "id": "8ea3c4ef",
   "metadata": {},
   "source": [
    "Read in data"
   ]
  },
  {
   "cell_type": "code",
   "execution_count": 13,
   "id": "af4c5218",
   "metadata": {},
   "outputs": [],
   "source": [
    "df_X_train_0 = pd.read_csv('ETL/X_train_0.csv')\n",
    "df_X_val_0 = pd.read_csv('ETL/X_val_0.csv')\n",
    "df_y_train_0 = pd.read_csv('ETL/y_train_0.csv')\n",
    "df_y_val_0 = pd.read_csv('ETL/y_val_0.csv')"
   ]
  },
  {
   "cell_type": "markdown",
   "id": "77a3e652",
   "metadata": {},
   "source": [
    "Conver to NumPy array"
   ]
  },
  {
   "cell_type": "code",
   "execution_count": 19,
   "id": "abc01c44",
   "metadata": {},
   "outputs": [],
   "source": [
    "X_train_0_np = df_X_train_0.to_numpy()\n",
    "X_val_0_np = df_X_val_0.to_numpy()\n",
    "y_train_0_np = df_y_train_0.to_numpy()\n",
    "y_val_0_np = df_y_val_0.to_numpy()"
   ]
  },
  {
   "cell_type": "markdown",
   "id": "08615318",
   "metadata": {},
   "source": [
    "Convert to Torch tensor"
   ]
  },
  {
   "cell_type": "code",
   "execution_count": 21,
   "id": "2ec01f59",
   "metadata": {},
   "outputs": [],
   "source": [
    "X_train_0 = th.from_numpy(X_train_0_np).float()\n",
    "X_val_0 = th.from_numpy(X_val_0_np).float()\n",
    "y_train_0 = th.from_numpy(y_train_0_np).float()\n",
    "y_val_0 = th.from_numpy(y_val_0_np).float()"
   ]
  },
  {
   "cell_type": "code",
   "execution_count": 22,
   "id": "focused-error",
   "metadata": {},
   "outputs": [],
   "source": [
    "#data = th.FloatTensor(np.array([5, 15, 25, 35, 45, 55]).reshape(-1, 1))\n",
    "\n",
    "X_train_0 = X_train_0.tag(\"DO1 training X data\")\n",
    "X_train_0 = X_train_0.describe(\"number of samples and features\")\n",
    "\n",
    "data_ptr = X_train_0.send(duet, searchable=True)"
   ]
  },
  {
   "cell_type": "code",
   "execution_count": 24,
   "id": "a8d2c344",
   "metadata": {},
   "outputs": [],
   "source": [
    "y_train_0 = y_train_0.tag(\"DO1 training y data\")\n",
    "y_train_0 = y_train_0.describe(\"number of samples and features\")\n",
    "\n",
    "target_ptr = y_train_0.send(duet, searchable=True)"
   ]
  },
  {
   "cell_type": "code",
   "execution_count": 25,
   "id": "circular-commodity",
   "metadata": {},
   "outputs": [
    {
     "data": {
      "text/html": [
       "<div>\n",
       "<style scoped>\n",
       "    .dataframe tbody tr th:only-of-type {\n",
       "        vertical-align: middle;\n",
       "    }\n",
       "\n",
       "    .dataframe tbody tr th {\n",
       "        vertical-align: top;\n",
       "    }\n",
       "\n",
       "    .dataframe thead th {\n",
       "        text-align: right;\n",
       "    }\n",
       "</style>\n",
       "<table border=\"1\" class=\"dataframe\">\n",
       "  <thead>\n",
       "    <tr style=\"text-align: right;\">\n",
       "      <th></th>\n",
       "      <th>ID</th>\n",
       "      <th>Tags</th>\n",
       "      <th>Description</th>\n",
       "      <th>object_type</th>\n",
       "    </tr>\n",
       "  </thead>\n",
       "  <tbody>\n",
       "    <tr>\n",
       "      <th>0</th>\n",
       "      <td>&lt;UID: 46037f1f37794325905f550c2951cc7a&gt;</td>\n",
       "      <td>[DO1 training X data]</td>\n",
       "      <td>number of samples and features</td>\n",
       "      <td>&lt;class 'torch.Tensor'&gt;</td>\n",
       "    </tr>\n",
       "    <tr>\n",
       "      <th>1</th>\n",
       "      <td>&lt;UID: b5b0998d9dc14891a63d2f163a26c555&gt;</td>\n",
       "      <td>[DO1 training y data]</td>\n",
       "      <td>number of samples and features</td>\n",
       "      <td>&lt;class 'torch.Tensor'&gt;</td>\n",
       "    </tr>\n",
       "  </tbody>\n",
       "</table>\n",
       "</div>"
      ],
      "text/plain": [
       "                                        ID                   Tags  \\\n",
       "0  <UID: 46037f1f37794325905f550c2951cc7a>  [DO1 training X data]   \n",
       "1  <UID: b5b0998d9dc14891a63d2f163a26c555>  [DO1 training y data]   \n",
       "\n",
       "                      Description             object_type  \n",
       "0  number of samples and features  <class 'torch.Tensor'>  \n",
       "1  number of samples and features  <class 'torch.Tensor'>  "
      ]
     },
     "execution_count": 25,
     "metadata": {},
     "output_type": "execute_result"
    }
   ],
   "source": [
    "duet.store.pandas"
   ]
  },
  {
   "cell_type": "code",
   "execution_count": 26,
   "id": "thousand-borough",
   "metadata": {},
   "outputs": [
    {
     "name": "stderr",
     "output_type": "stream",
     "text": [
      "[2022-01-04T18:26:18.978440+0000][CRITICAL][logger]][62568] > HANDLER Request <UID: ee55a534f7dc4765b4c39e11ff1d317c>: To evaluate training progress\n",
      "Value: <Storable: 0.0675625279545784>\n",
      "[2022-01-04T18:26:19.125047+0000][CRITICAL][logger]][62568] > HANDLER Request <UID: 8f5ae63328a54ec8b06861e52798c95a>: To evaluate training progress\n",
      "Value: <Storable: 0.24892187118530273>\n",
      "[2022-01-04T18:26:19.260685+0000][CRITICAL][logger]][62568] > HANDLER Request <UID: e6b0f200702341f5a5ff39b0ed7229a3>: To evaluate training progress\n",
      "Value: <Storable: 0.06791038811206818>\n",
      "[2022-01-04T18:26:19.398318+0000][CRITICAL][logger]][62568] > HANDLER Request <UID: d2200093a6814993b062287e409066d5>: To evaluate training progress\n",
      "Value: <Storable: 0.19889222085475922>\n",
      "[2022-01-04T18:26:19.537945+0000][CRITICAL][logger]][62568] > HANDLER Request <UID: dc36cee08f414908a338b30f3de06f82>: To evaluate training progress\n",
      "Value: <Storable: 0.15610317885875702>\n",
      "[2022-01-04T18:26:19.680562+0000][CRITICAL][logger]][62568] > HANDLER Request <UID: 8b235152dfa04dbaaa06e4f0ad818485>: To evaluate training progress\n",
      "Value: <Storable: 0.06613555550575256>\n",
      "[2022-01-04T18:26:19.823183+0000][CRITICAL][logger]][62568] > HANDLER Request <UID: 88b6898207e547ebb859aa866c338eeb>: To evaluate training progress\n",
      "Value: <Storable: 0.0782691016793251>\n",
      "[2022-01-04T18:26:19.960814+0000][CRITICAL][logger]][62568] > HANDLER Request <UID: 90f5cd404de44214822e76e18db520ae>: To evaluate training progress\n",
      "Value: <Storable: 0.1309824287891388>\n",
      "[2022-01-04T18:26:20.100441+0000][CRITICAL][logger]][62568] > HANDLER Request <UID: e84616dc303e492ba8d704ee4c108cf3>: To evaluate training progress\n",
      "Value: <Storable: 0.11900658905506134>\n",
      "[2022-01-04T18:26:20.242096+0000][CRITICAL][logger]][62568] > HANDLER Request <UID: 4ae0357be104418c9fcc314d59d4e226>: To evaluate training progress\n",
      "Value: <Storable: 0.0720519945025444>\n"
     ]
    }
   ],
   "source": [
    "duet.requests.add_handler(\n",
    "    action=\"accept\",\n",
    "    print_local=True,  # print the result in your notebook\n",
    ")"
   ]
  },
  {
   "cell_type": "code",
   "execution_count": null,
   "id": "assigned-tomato",
   "metadata": {},
   "outputs": [],
   "source": []
  }
 ],
 "metadata": {
  "kernelspec": {
   "display_name": "Python 3",
   "language": "python",
   "name": "python3"
  },
  "language_info": {
   "codemirror_mode": {
    "name": "ipython",
    "version": 3
   },
   "file_extension": ".py",
   "mimetype": "text/x-python",
   "name": "python",
   "nbconvert_exporter": "python",
   "pygments_lexer": "ipython3",
   "version": "3.8.12"
  }
 },
 "nbformat": 4,
 "nbformat_minor": 5
}
