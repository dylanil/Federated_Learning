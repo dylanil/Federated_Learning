{
 "cells": [
  {
   "cell_type": "markdown",
   "id": "continent-climb",
   "metadata": {},
   "source": [
    "# Part 1: Launch a Duet Server and upload data"
   ]
  },
  {
   "cell_type": "code",
   "execution_count": 1,
   "id": "parental-classics",
   "metadata": {},
   "outputs": [
    {
     "name": "stdout",
     "output_type": "stream",
     "text": [
      "🎤  🎸  ♪♪♪ Starting Duet ♫♫♫  🎻  🎹\n",
      "\n",
      "♫♫♫ >\u001b[93m DISCLAIMER\u001b[0m: \u001b[1mDuet is an experimental feature currently in beta.\n",
      "♫♫♫ > Use at your own risk.\n",
      "\u001b[0m\n",
      "\u001b[1m\n",
      "    > ❤️ \u001b[91mLove\u001b[0m \u001b[92mDuet\u001b[0m? \u001b[93mPlease\u001b[0m \u001b[94mconsider\u001b[0m \u001b[95msupporting\u001b[0m \u001b[91mour\u001b[0m \u001b[93mcommunity!\u001b[0m\n",
      "    > https://github.com/sponsors/OpenMined\u001b[1m\n",
      "\n",
      "♫♫♫ > Punching through firewall to OpenGrid Network Node at:\n",
      "♫♫♫ > http://ec2-18-218-7-180.us-east-2.compute.amazonaws.com:5000\n",
      "♫♫♫ >\n",
      "♫♫♫ > ...waiting for response from OpenGrid Network... \n",
      "♫♫♫ > \u001b[92mDONE!\u001b[0m\n",
      "♫♫♫ > Duet Server ID: \u001b[1mde12b5c540d4b2e5464fcf08e40a210b\u001b[0m\n",
      "\n",
      "♫♫♫ > \u001b[95mSTEP 1:\u001b[0m Send the following code to your Duet Partner!\n",
      "\n",
      "import syft as sy\n",
      "duet = sy.duet(\"\u001b[1mde12b5c540d4b2e5464fcf08e40a210b\u001b[0m\")\n",
      "\n",
      "♫♫♫ > \u001b[95mSTEP 2:\u001b[0m Ask your partner for their Client ID and enter it below!\n",
      "    > Error: Invalid Client ID. Please try again.\n",
      "\n",
      "♫♫♫ > Connecting...\n"
     ]
    },
    {
     "name": "stderr",
     "output_type": "stream",
     "text": [
      "C:\\Users\\dylan\\anaconda3\\envs\\new_pysyft\\lib\\site-packages\\aiortc\\rtcdtlstransport.py:211: CryptographyDeprecationWarning: This version of cryptography contains a temporary pyOpenSSL fallback path. Upgrade pyOpenSSL now.\n",
      "  _openssl_assert(lib.SSL_CTX_use_certificate(ctx, self._cert._x509) == 1)  # type: ignore\n",
      "C:\\Users\\dylan\\anaconda3\\envs\\new_pysyft\\lib\\site-packages\\aiortc\\rtcdtlstransport.py:186: CryptographyDeprecationWarning: This version of cryptography contains a temporary pyOpenSSL fallback path. Upgrade pyOpenSSL now.\n",
      "  value=certificate_digest(self._cert._x509),  # type: ignore\n"
     ]
    },
    {
     "name": "stdout",
     "output_type": "stream",
     "text": [
      "\n",
      "♫♫♫ > \u001b[92mCONNECTED!\u001b[0m\n",
      "\n",
      "`searchable` is deprecated please use `pointable` in futurees: 0  Request Handlers: 0                                \n",
      "♫♫♫ > DUET LIVE STATUS  -  Objects: 8  Requests: 0   Messages: 764  Request Handlers: 1                                 \r"
     ]
    }
   ],
   "source": [
    "import syft as sy\n",
    "duet = sy.launch_duet()"
   ]
  },
  {
   "cell_type": "code",
   "execution_count": 2,
   "id": "dying-switch",
   "metadata": {},
   "outputs": [],
   "source": [
    "import torch as th\n",
    "from torch.utils.data import Dataset, DataLoader\n",
    "import numpy as np\n",
    "import pandas as pd"
   ]
  },
  {
   "cell_type": "markdown",
   "id": "8ea3c4ef",
   "metadata": {},
   "source": [
    "Read in data"
   ]
  },
  {
   "cell_type": "code",
   "execution_count": 3,
   "id": "af4c5218",
   "metadata": {},
   "outputs": [],
   "source": [
    "df_X_train_0 = pd.read_csv('ETL/X_train_0.csv')\n",
    "df_X_val_0 = pd.read_csv('ETL/X_val_0.csv')\n",
    "df_y_train_0 = pd.read_csv('ETL/y_train_0.csv')\n",
    "df_y_val_0 = pd.read_csv('ETL/y_val_0.csv')"
   ]
  },
  {
   "cell_type": "markdown",
   "id": "77a3e652",
   "metadata": {},
   "source": [
    "Conver to NumPy array"
   ]
  },
  {
   "cell_type": "code",
   "execution_count": 4,
   "id": "abc01c44",
   "metadata": {},
   "outputs": [],
   "source": [
    "X_train_0_np = df_X_train_0.to_numpy()\n",
    "X_val_0_np = df_X_val_0.to_numpy()\n",
    "y_train_0_np = df_y_train_0.to_numpy()\n",
    "y_val_0_np = df_y_val_0.to_numpy()"
   ]
  },
  {
   "cell_type": "markdown",
   "id": "08615318",
   "metadata": {},
   "source": [
    "Convert to Torch tensor"
   ]
  },
  {
   "cell_type": "code",
   "execution_count": 5,
   "id": "2ec01f59",
   "metadata": {},
   "outputs": [],
   "source": [
    "X_train_0 = th.from_numpy(X_train_0_np).float()\n",
    "X_val_0 = th.from_numpy(X_val_0_np).float()\n",
    "y_train_0 = th.from_numpy(y_train_0_np).float()\n",
    "y_val_0 = th.from_numpy(y_val_0_np).float()"
   ]
  },
  {
   "cell_type": "code",
   "execution_count": 6,
   "id": "focused-error",
   "metadata": {},
   "outputs": [],
   "source": [
    "#data = th.FloatTensor(np.array([5, 15, 25, 35, 45, 55]).reshape(-1, 1))\n",
    "\n",
    "X_train_0 = X_train_0.tag(\"DO1 training X data\")\n",
    "X_train_0 = X_train_0.describe(\"number of samples and features\")\n",
    "\n",
    "data_ptr = X_train_0.send(duet, searchable=True)"
   ]
  },
  {
   "cell_type": "code",
   "execution_count": 7,
   "id": "a8d2c344",
   "metadata": {},
   "outputs": [
    {
     "name": "stdout",
     "output_type": "stream",
     "text": [
      "`searchable` is deprecated please use `pointable` in future\n"
     ]
    }
   ],
   "source": [
    "y_train_0 = y_train_0.tag(\"DO1 training y data\")\n",
    "y_train_0 = y_train_0.describe(\"number of samples and features\")\n",
    "\n",
    "target_ptr = y_train_0.send(duet, searchable=True)"
   ]
  },
  {
   "cell_type": "code",
   "execution_count": 8,
   "id": "circular-commodity",
   "metadata": {},
   "outputs": [
    {
     "data": {
      "text/html": [
       "<div>\n",
       "<style scoped>\n",
       "    .dataframe tbody tr th:only-of-type {\n",
       "        vertical-align: middle;\n",
       "    }\n",
       "\n",
       "    .dataframe tbody tr th {\n",
       "        vertical-align: top;\n",
       "    }\n",
       "\n",
       "    .dataframe thead th {\n",
       "        text-align: right;\n",
       "    }\n",
       "</style>\n",
       "<table border=\"1\" class=\"dataframe\">\n",
       "  <thead>\n",
       "    <tr style=\"text-align: right;\">\n",
       "      <th></th>\n",
       "      <th>ID</th>\n",
       "      <th>Tags</th>\n",
       "      <th>Description</th>\n",
       "      <th>object_type</th>\n",
       "    </tr>\n",
       "  </thead>\n",
       "  <tbody>\n",
       "    <tr>\n",
       "      <th>0</th>\n",
       "      <td>&lt;UID: 47e9e8d2f9814ae09139d6096f1cb412&gt;</td>\n",
       "      <td>[DO1 training X data]</td>\n",
       "      <td>number of samples and features</td>\n",
       "      <td>&lt;class 'torch.Tensor'&gt;</td>\n",
       "    </tr>\n",
       "    <tr>\n",
       "      <th>1</th>\n",
       "      <td>&lt;UID: 9c0d5bc308174fda91f4c182ba915f84&gt;</td>\n",
       "      <td>[DO1 training y data]</td>\n",
       "      <td>number of samples and features</td>\n",
       "      <td>&lt;class 'torch.Tensor'&gt;</td>\n",
       "    </tr>\n",
       "  </tbody>\n",
       "</table>\n",
       "</div>"
      ],
      "text/plain": [
       "                                        ID                   Tags  \\\n",
       "0  <UID: 47e9e8d2f9814ae09139d6096f1cb412>  [DO1 training X data]   \n",
       "1  <UID: 9c0d5bc308174fda91f4c182ba915f84>  [DO1 training y data]   \n",
       "\n",
       "                      Description             object_type  \n",
       "0  number of samples and features  <class 'torch.Tensor'>  \n",
       "1  number of samples and features  <class 'torch.Tensor'>  "
      ]
     },
     "execution_count": 8,
     "metadata": {},
     "output_type": "execute_result"
    }
   ],
   "source": [
    "duet.store.pandas"
   ]
  },
  {
   "cell_type": "code",
   "execution_count": 9,
   "id": "thousand-borough",
   "metadata": {},
   "outputs": [
    {
     "name": "stderr",
     "output_type": "stream",
     "text": [
      "[2022-01-04T20:13:10.697348+0000][CRITICAL][logger]][66356] > HANDLER Request <UID: 80133142a4bf46fcbe53c8f2d6ff0896>: To evaluate training progress\n",
      "Value: <Storable: 1.1209511756896973>\n",
      "[2022-01-04T20:13:10.907787+0000][CRITICAL][logger]][66356] > HANDLER Request <UID: 5de6e61d4874450b9a9e67663e171c25>: To evaluate training progress\n",
      "Value: <Storable: 0.25860995054244995>\n",
      "[2022-01-04T20:13:11.121216+0000][CRITICAL][logger]][66356] > HANDLER Request <UID: e1f9a526b6df4acba1017bc8533299f0>: To evaluate training progress\n",
      "Value: <Storable: 0.3237025737762451>\n",
      "[2022-01-04T20:13:11.323675+0000][CRITICAL][logger]][66356] > HANDLER Request <UID: 3bf321c593264ca3a51378183b735c69>: To evaluate training progress\n",
      "Value: <Storable: 0.3992210924625397>\n",
      "[2022-01-04T20:13:11.553062+0000][CRITICAL][logger]][66356] > HANDLER Request <UID: 70b5a5fe3a08498b989ef9ca002185f3>: To evaluate training progress\n",
      "Value: <Storable: 0.3737008571624756>\n",
      "[2022-01-04T20:13:11.785442+0000][CRITICAL][logger]][66356] > HANDLER Request <UID: 6ec1bf56945c4754b5da17048dd16a8b>: To evaluate training progress\n",
      "Value: <Storable: 0.3037089407444>\n",
      "[2022-01-04T20:13:11.998871+0000][CRITICAL][logger]][66356] > HANDLER Request <UID: 4aa22eeb36904537ab0161a20762afe7>: To evaluate training progress\n",
      "Value: <Storable: 0.238212451338768>\n",
      "[2022-01-04T20:13:12.225265+0000][CRITICAL][logger]][66356] > HANDLER Request <UID: 29ab977cbbd14ad0bf02e07657ac3b4a>: To evaluate training progress\n",
      "Value: <Storable: 0.2220996916294098>\n",
      "[2022-01-04T20:13:12.432712+0000][CRITICAL][logger]][66356] > HANDLER Request <UID: 7f4aab61927a43e49c3241109192eb98>: To evaluate training progress\n",
      "Value: <Storable: 0.252182275056839>\n",
      "[2022-01-04T20:13:12.647138+0000][CRITICAL][logger]][66356] > HANDLER Request <UID: 5d5a3bdf97cf4a78b4aad8cd6d5d1fcc>: To evaluate training progress\n",
      "Value: <Storable: 0.26240459084510803>\n",
      "[2022-01-04T20:13:12.858574+0000][CRITICAL][logger]][66356] > HANDLER Request <UID: 9f92b0e1c59a44f7a11c2309c7a05578>: To evaluate training progress\n",
      "Value: <Storable: 0.24415290355682373>\n",
      "[2022-01-04T20:13:13.074994+0000][CRITICAL][logger]][66356] > HANDLER Request <UID: 8cfecc3272fd4be1b32aaa378f84b63b>: To evaluate training progress\n",
      "Value: <Storable: 0.22806397080421448>\n",
      "[2022-01-04T20:13:13.277452+0000][CRITICAL][logger]][66356] > HANDLER Request <UID: 7128ef6c197e42d6bd55ce53941fd76c>: To evaluate training progress\n",
      "Value: <Storable: 0.22489392757415771>\n",
      "[2022-01-04T20:13:13.480928+0000][CRITICAL][logger]][66356] > HANDLER Request <UID: 0a7292e4c4734f93b04b3d3c79f7fb7d>: To evaluate training progress\n",
      "Value: <Storable: 0.2301066368818283>\n",
      "[2022-01-04T20:13:13.690352+0000][CRITICAL][logger]][66356] > HANDLER Request <UID: b56800d8042f4f2192e13e0a863bbc7b>: To evaluate training progress\n",
      "Value: <Storable: 0.23699286580085754>\n",
      "[2022-01-04T20:13:13.896814+0000][CRITICAL][logger]][66356] > HANDLER Request <UID: e6bb319578004a4b840664743ef62b83>: To evaluate training progress\n",
      "Value: <Storable: 0.23910272121429443>\n",
      "[2022-01-04T20:13:14.102248+0000][CRITICAL][logger]][66356] > HANDLER Request <UID: d7128a474cf8498db9153293ea7c1bd0>: To evaluate training progress\n",
      "Value: <Storable: 0.2371058464050293>\n",
      "[2022-01-04T20:13:14.311689+0000][CRITICAL][logger]][66356] > HANDLER Request <UID: 61aa3e7bb6e14d5da2f25a0fcd6b1131>: To evaluate training progress\n",
      "Value: <Storable: 0.23202422261238098>\n",
      "[2022-01-04T20:13:14.531102+0000][CRITICAL][logger]][66356] > HANDLER Request <UID: 937d4bd5828841fa95acff5bae0496ee>: To evaluate training progress\n",
      "Value: <Storable: 0.22562023997306824>\n",
      "[2022-01-04T20:13:14.751513+0000][CRITICAL][logger]][66356] > HANDLER Request <UID: 7a3c514d90cb4f7cb00f98f0dd08b5d1>: To evaluate training progress\n",
      "Value: <Storable: 0.22114117443561554>\n",
      "[2022-01-04T20:13:14.948985+0000][CRITICAL][logger]][66356] > HANDLER Request <UID: c658c80b37a24e8fb8de79f0553f8796>: To evaluate training progress\n",
      "Value: <Storable: 0.22090882062911987>\n",
      "[2022-01-04T20:13:15.154435+0000][CRITICAL][logger]][66356] > HANDLER Request <UID: 3c4f5c188aba4ed5b506dd500c1e2666>: To evaluate training progress\n",
      "Value: <Storable: 0.2237473726272583>\n",
      "[2022-01-04T20:13:15.362879+0000][CRITICAL][logger]][66356] > HANDLER Request <UID: 664c36d3ca9643d4ab4f6b32c93f6025>: To evaluate training progress\n",
      "Value: <Storable: 0.22645746171474457>\n",
      "[2022-01-04T20:13:15.579300+0000][CRITICAL][logger]][66356] > HANDLER Request <UID: 0035a0785896458e90b559170a08c3a3>: To evaluate training progress\n",
      "Value: <Storable: 0.2257240116596222>\n",
      "[2022-01-04T20:13:15.789738+0000][CRITICAL][logger]][66356] > HANDLER Request <UID: 32633a377b2d4d17b4b51587fd91bfe2>: To evaluate training progress\n",
      "Value: <Storable: 0.2229830026626587>\n",
      "[2022-01-04T20:13:32.455622+0000][CRITICAL][logger]][66356] > HANDLER Request <UID: e76124d5969d4fcf90e2b242601fcd90>:\n",
      "Value: <Storable: [Parameter containing:tensor([[-0.6777, -0.6924, -0.5095, ..., -0.1219, -0.6646, -0.4533],    [-0.6215, -0.4037, -0.5063, ..., -0.5613, -0.4609, -0.4414],    [-0.3288, 0.1863, 0.0653, ..., 0.3790, 0.2414, 0.1923],    ...,    [ 0.0985, 0.3905, 0.3582, ..., 0.3909, 0.4855, 0.4172],    [-0.6369, -0.5278, -0.6016, ..., -0.4705, -0.7159, -0.5438],    [-0.4271, -0.5144, -0.6358, ..., -0.5577, -0.6738, -0.5335]],    requires_grad=True), Parameter containing:tensor([-0.5892, -0.5148, 0.3019, 0.0704, -0.5155, -0.4367, 0.1437, -0.2604,    -0.5944, -0.2832, 0.2211, -0.2283, -0.5389, -0.4783, -0.6836, -0.0083,    -0.1152, -0.3841, -0.4518, -0.2421, -0.4633, 0.3448, -0.4261, -0.1361,     0.4037, -0.5376, 0.2305, -0.6696, 0.5576, -0.4365, -0.5763],    requires_grad=True), Parameter containing:tensor([[-0.4868, -0.4487, -0.2316, -0.0912, -0.5542, 0.3977, -0.1459, 0.4104,     -0.5172, 0.2482, -0.1622, 0.3952, -0.4834, 0.3853, -0.4097, 0.0196,     -0.0305, 0.4402, -0.5542, 0.3638, -0.4947, -0.2139, -0.5409, -0.0728,     -0.2887, -0.4127, -0.1653, -0.4436, -0.2939, -0.3771, -0.4209]],    requires_grad=True), Parameter containing:tensor([-0.5042], requires_grad=True)]>\n",
      "[2022-01-04T20:13:40.369304+0000][CRITICAL][logger]][66356] > HANDLER Request <UID: 79c8b9ec250244108bbd1ff36e6ac4f1>:\n",
      "Value: <Storable: 'in_features=39, out_features=31, bias=True'>\n",
      "[2022-01-04T20:13:40.483256+0000][CRITICAL][logger]][66356] > HANDLER Request <UID: 6f095c28a93f40d0af14ab1a381ce4e9>:\n",
      "Value: <Storable: OrderedDict([('weight', tensor([[-0.6777, -0.6924, -0.5095, ..., -0.1219, -0.6646, -0.4533],    [-0.6215, -0.4037, -0.5063, ..., -0.5613, -0.4609, -0.4414],    [-0.3288, 0.1863, 0.0653, ..., 0.3790, 0.2414, 0.1923],    ...,    [ 0.0985, 0.3905, 0.3582, ..., 0.3909, 0.4855, 0.4172],    [-0.6369, -0.5278, -0.6016, ..., -0.4705, -0.7159, -0.5438],    [-0.4271, -0.5144, -0.6358, ..., -0.5577, -0.6738, -0.5335]])), ('bias', tensor([-0.5892, -0.5148, 0.3019, 0.0704, -0.5155, -0.4367, 0.1437, -0.2604,    -0.5944, -0.2832, 0.2211, -0.2283, -0.5389, -0.4783, -0.6836, -0.0083,    -0.1152, -0.3841, -0.4518, -0.2421, -0.4633, 0.3448, -0.4261, -0.1361,     0.4037, -0.5376, 0.2305, -0.6696, 0.5576, -0.4365, -0.5763]))])>\n",
      "[2022-01-04T20:13:40.608698+0000][CRITICAL][logger]][66356] > HANDLER Request <UID: c106e37fa6ea4cc7b841f7bffc881d47>:\n",
      "Value: <Storable: 'in_features=31, out_features=1, bias=True'>\n",
      "[2022-01-04T20:13:40.736205+0000][CRITICAL][logger]][66356] > HANDLER Request <UID: 53d1c9bb102648cfa5377c7b6342b6f5>:\n",
      "Value: <Storable: OrderedDict([('weight', tensor([[-0.4868, -0.4487, -0.2316, -0.0912, -0.5542, 0.3977, -0.1459, 0.4104,     -0.5172, 0.2482, -0.1622, 0.3952, -0.4834, 0.3853, -0.4097, 0.0196,     -0.0305, 0.4402, -0.5542, 0.3638, -0.4947, -0.2139, -0.5409, -0.0728,     -0.2887, -0.4127, -0.1653, -0.4436, -0.2939, -0.3771, -0.4209]])), ('bias', tensor([-0.5042]))])>\n",
      "[2022-01-04T20:13:41.845655+0000][CRITICAL][logger]][66356] > HANDLER Request <UID: 290152c73dd74b47954255a2a1b434a1>:\n",
      "Value: <Storable: 'p=0.1240939274430275, inplace=False'>\n",
      "[2022-01-04T20:13:41.969437+0000][CRITICAL][logger]][66356] > HANDLER Request <UID: f438c0a442554bedb40ff4aff44972de>:\n",
      "Value: <Storable: OrderedDict()>\n",
      "[2022-01-04T20:13:43.087859+0000][CRITICAL][logger]][66356] > HANDLER Request <UID: 13b13689d3ec4ab9a4671bdc1ba84b97>:\n",
      "Value: <Storable: ''>\n",
      "[2022-01-04T20:13:43.203705+0000][CRITICAL][logger]][66356] > HANDLER Request <UID: d6fdbae7e855465fa1b54a681869d653>:\n",
      "Value: <Storable: OrderedDict()>\n"
     ]
    }
   ],
   "source": [
    "duet.requests.add_handler(\n",
    "    action=\"accept\",\n",
    "    print_local=True,  # print the result in your notebook\n",
    ")"
   ]
  },
  {
   "cell_type": "code",
   "execution_count": null,
   "id": "assigned-tomato",
   "metadata": {},
   "outputs": [],
   "source": []
  }
 ],
 "metadata": {
  "kernelspec": {
   "display_name": "Python 3",
   "language": "python",
   "name": "python3"
  },
  "language_info": {
   "codemirror_mode": {
    "name": "ipython",
    "version": 3
   },
   "file_extension": ".py",
   "mimetype": "text/x-python",
   "name": "python",
   "nbconvert_exporter": "python",
   "pygments_lexer": "ipython3",
   "version": "3.8.12"
  }
 },
 "nbformat": 4,
 "nbformat_minor": 5
}
