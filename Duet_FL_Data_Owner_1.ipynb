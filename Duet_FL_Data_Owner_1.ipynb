{
 "cells": [
  {
   "cell_type": "markdown",
   "id": "continent-climb",
   "metadata": {},
   "source": [
    "# Part 1: Launch a Duet Server and upload data"
   ]
  },
  {
   "cell_type": "code",
   "execution_count": 1,
   "id": "parental-classics",
   "metadata": {},
   "outputs": [
    {
     "name": "stdout",
     "output_type": "stream",
     "text": [
      "🎤  🎸  ♪♪♪ Starting Duet ♫♫♫  🎻  🎹\n",
      "\n",
      "♫♫♫ >\u001b[93m DISCLAIMER\u001b[0m: \u001b[1mDuet is an experimental feature currently in beta.\n",
      "♫♫♫ > Use at your own risk.\n",
      "\u001b[0m\n",
      "\u001b[1m\n",
      "    > ❤️ \u001b[91mLove\u001b[0m \u001b[92mDuet\u001b[0m? \u001b[93mPlease\u001b[0m \u001b[94mconsider\u001b[0m \u001b[95msupporting\u001b[0m \u001b[91mour\u001b[0m \u001b[93mcommunity!\u001b[0m\n",
      "    > https://github.com/sponsors/OpenMined\u001b[1m\n",
      "\n",
      "♫♫♫ > Punching through firewall to OpenGrid Network Node at:\n",
      "♫♫♫ > http://ec2-18-218-7-180.us-east-2.compute.amazonaws.com:5000\n",
      "♫♫♫ >\n",
      "♫♫♫ > ...waiting for response from OpenGrid Network... \n",
      "♫♫♫ > \u001b[92mDONE!\u001b[0m\n",
      "♫♫♫ > Duet Server ID: \u001b[1m5ca13d89c75e0abcd1cde8b2a5cc5288\u001b[0m\n",
      "\n",
      "♫♫♫ > \u001b[95mSTEP 1:\u001b[0m Send the following code to your Duet Partner!\n",
      "\n",
      "import syft as sy\n",
      "duet = sy.duet(\"\u001b[1m5ca13d89c75e0abcd1cde8b2a5cc5288\u001b[0m\")\n",
      "\n",
      "♫♫♫ > \u001b[95mSTEP 2:\u001b[0m Ask your partner for their Client ID and enter it below!\n",
      "    > Error: Invalid Client ID. Please try again.\n",
      "\n",
      "♫♫♫ > Connecting...\n"
     ]
    },
    {
     "name": "stderr",
     "output_type": "stream",
     "text": [
      "C:\\Users\\dylan\\anaconda3\\envs\\new_pysyft\\lib\\site-packages\\aiortc\\rtcdtlstransport.py:211: CryptographyDeprecationWarning: This version of cryptography contains a temporary pyOpenSSL fallback path. Upgrade pyOpenSSL now.\n",
      "  _openssl_assert(lib.SSL_CTX_use_certificate(ctx, self._cert._x509) == 1)  # type: ignore\n",
      "C:\\Users\\dylan\\anaconda3\\envs\\new_pysyft\\lib\\site-packages\\aiortc\\rtcdtlstransport.py:186: CryptographyDeprecationWarning: This version of cryptography contains a temporary pyOpenSSL fallback path. Upgrade pyOpenSSL now.\n",
      "  value=certificate_digest(self._cert._x509),  # type: ignore\n"
     ]
    },
    {
     "name": "stdout",
     "output_type": "stream",
     "text": [
      "\n",
      "♫♫♫ > \u001b[92mCONNECTED!\u001b[0m\n",
      "\n",
      "♫♫♫ > DUET LIVE STATUS  *  Objects: 1415  Requests: 0   Messages: 84630  Request Handlers: 1                                \r"
     ]
    }
   ],
   "source": [
    "import syft as sy\n",
    "duet = sy.launch_duet()"
   ]
  },
  {
   "cell_type": "code",
   "execution_count": 2,
   "id": "dying-switch",
   "metadata": {},
   "outputs": [],
   "source": [
    "import torch as th\n",
    "from torch.utils.data import Dataset, DataLoader\n",
    "import numpy as np\n",
    "import pandas as pd"
   ]
  },
  {
   "cell_type": "markdown",
   "id": "8ea3c4ef",
   "metadata": {},
   "source": [
    "Read in data"
   ]
  },
  {
   "cell_type": "code",
   "execution_count": 3,
   "id": "af4c5218",
   "metadata": {},
   "outputs": [],
   "source": [
    "df_X_train_0 = pd.read_csv('ETL/X_train_0.csv')\n",
    "df_X_val_0 = pd.read_csv('ETL/X_val_0.csv')\n",
    "df_y_train_0 = pd.read_csv('ETL/y_train_0.csv')\n",
    "df_y_val_0 = pd.read_csv('ETL/y_val_0.csv')"
   ]
  },
  {
   "cell_type": "markdown",
   "id": "77a3e652",
   "metadata": {},
   "source": [
    "Conver to NumPy array"
   ]
  },
  {
   "cell_type": "code",
   "execution_count": 4,
   "id": "abc01c44",
   "metadata": {},
   "outputs": [],
   "source": [
    "X_train_0_np = df_X_train_0.to_numpy()\n",
    "X_val_0_np = df_X_val_0.to_numpy()\n",
    "y_train_0_np = df_y_train_0.to_numpy()\n",
    "y_val_0_np = df_y_val_0.to_numpy()"
   ]
  },
  {
   "cell_type": "markdown",
   "id": "08615318",
   "metadata": {},
   "source": [
    "Convert to Torch tensor"
   ]
  },
  {
   "cell_type": "code",
   "execution_count": 5,
   "id": "2ec01f59",
   "metadata": {},
   "outputs": [],
   "source": [
    "X_train_0 = th.from_numpy(X_train_0_np).float()\n",
    "X_val_0 = th.from_numpy(X_val_0_np).float()\n",
    "y_train_0 = th.from_numpy(y_train_0_np).float()\n",
    "y_val_0 = th.from_numpy(y_val_0_np).float()"
   ]
  },
  {
   "cell_type": "code",
   "execution_count": 6,
   "id": "focused-error",
   "metadata": {},
   "outputs": [
    {
     "name": "stdout",
     "output_type": "stream",
     "text": [
      "`searchable` is deprecated please use `pointable` in future\n"
     ]
    }
   ],
   "source": [
    "#data = th.FloatTensor(np.array([5, 15, 25, 35, 45, 55]).reshape(-1, 1))\n",
    "\n",
    "X_train_0 = X_train_0.tag(\"DO1 training X data\")\n",
    "X_train_0 = X_train_0.describe(\"number of samples and features\")\n",
    "\n",
    "data_ptr = X_train_0.send(duet, searchable=True)"
   ]
  },
  {
   "cell_type": "code",
   "execution_count": 7,
   "id": "a8d2c344",
   "metadata": {},
   "outputs": [
    {
     "name": "stdout",
     "output_type": "stream",
     "text": [
      "`searchable` is deprecated please use `pointable` in future\n"
     ]
    }
   ],
   "source": [
    "y_train_0 = y_train_0.tag(\"DO1 training y data\")\n",
    "y_train_0 = y_train_0.describe(\"number of samples and features\")\n",
    "\n",
    "target_ptr = y_train_0.send(duet, searchable=True)"
   ]
  },
  {
   "cell_type": "code",
   "execution_count": 8,
   "id": "e4b0174c",
   "metadata": {},
   "outputs": [
    {
     "name": "stdout",
     "output_type": "stream",
     "text": [
      "`searchable` is deprecated please use `pointable` in future\n"
     ]
    },
    {
     "data": {
      "text/plain": [
       "<syft.proxy.syft.lib.python.IntPointer at 0x1ccbd7b29a0>"
      ]
     },
     "execution_count": 8,
     "metadata": {},
     "output_type": "execute_result"
    }
   ],
   "source": [
    "train_num_0 = sy.lib.python.Int(X_train_0.shape[0])\n",
    "train_num_0.tag(\"size of DO1's training data\")\n",
    "train_num_0.describe(\"size of DO1's training data\")\n",
    "train_num_0.send(duet, searchable=True)"
   ]
  },
  {
   "cell_type": "code",
   "execution_count": 9,
   "id": "circular-commodity",
   "metadata": {},
   "outputs": [
    {
     "data": {
      "text/html": [
       "<div>\n",
       "<style scoped>\n",
       "    .dataframe tbody tr th:only-of-type {\n",
       "        vertical-align: middle;\n",
       "    }\n",
       "\n",
       "    .dataframe tbody tr th {\n",
       "        vertical-align: top;\n",
       "    }\n",
       "\n",
       "    .dataframe thead th {\n",
       "        text-align: right;\n",
       "    }\n",
       "</style>\n",
       "<table border=\"1\" class=\"dataframe\">\n",
       "  <thead>\n",
       "    <tr style=\"text-align: right;\">\n",
       "      <th></th>\n",
       "      <th>ID</th>\n",
       "      <th>Tags</th>\n",
       "      <th>Description</th>\n",
       "      <th>object_type</th>\n",
       "    </tr>\n",
       "  </thead>\n",
       "  <tbody>\n",
       "    <tr>\n",
       "      <th>0</th>\n",
       "      <td>&lt;UID: 1fedabfec7784c82aa729919b91af563&gt;</td>\n",
       "      <td>[DO1 training X data]</td>\n",
       "      <td>number of samples and features</td>\n",
       "      <td>&lt;class 'torch.Tensor'&gt;</td>\n",
       "    </tr>\n",
       "    <tr>\n",
       "      <th>1</th>\n",
       "      <td>&lt;UID: a4cd989670a04730b8f18c184c581876&gt;</td>\n",
       "      <td>[DO1 training y data]</td>\n",
       "      <td>number of samples and features</td>\n",
       "      <td>&lt;class 'torch.Tensor'&gt;</td>\n",
       "    </tr>\n",
       "    <tr>\n",
       "      <th>2</th>\n",
       "      <td>&lt;UID: b5d8ce0118c44bc68a860f5ac0194648&gt;</td>\n",
       "      <td>[size of DO1's training data]</td>\n",
       "      <td>size of DO1's training data</td>\n",
       "      <td>&lt;class 'syft.lib.python.Int'&gt;</td>\n",
       "    </tr>\n",
       "  </tbody>\n",
       "</table>\n",
       "</div>"
      ],
      "text/plain": [
       "                                        ID                           Tags  \\\n",
       "0  <UID: 1fedabfec7784c82aa729919b91af563>          [DO1 training X data]   \n",
       "1  <UID: a4cd989670a04730b8f18c184c581876>          [DO1 training y data]   \n",
       "2  <UID: b5d8ce0118c44bc68a860f5ac0194648>  [size of DO1's training data]   \n",
       "\n",
       "                      Description                    object_type  \n",
       "0  number of samples and features         <class 'torch.Tensor'>  \n",
       "1  number of samples and features         <class 'torch.Tensor'>  \n",
       "2     size of DO1's training data  <class 'syft.lib.python.Int'>  "
      ]
     },
     "execution_count": 9,
     "metadata": {},
     "output_type": "execute_result"
    }
   ],
   "source": [
    "duet.store.pandas"
   ]
  },
  {
   "cell_type": "code",
   "execution_count": 10,
   "id": "thousand-borough",
   "metadata": {},
   "outputs": [
    {
     "name": "stderr",
     "output_type": "stream",
     "text": [
      "[2022-04-03T21:53:42.376034+0100][CRITICAL][logger]][25192] > HANDLER Request <UID: 8a36806e4abd498dbfb63f0b522368ce>: To write the training loop\n",
      "Value: <Storable: 244085>\n",
      "[2022-04-03T21:53:42.504950+0100][CRITICAL][logger]][25192] > HANDLER Request <UID: c6cf74fcd3604853ba7acb721d27c70f>: To write the training loop\n",
      "Value: <Storable: 244085>\n",
      "[2022-04-03T21:53:42.742265+0100][CRITICAL][logger]][25192] > HANDLER Request <UID: 2dc98e52629f41bbbd7ec51cd0410e57>:\n",
      "Value: <Storable: 244085>\n",
      "[2022-04-03T21:53:43.055456+0100][CRITICAL][logger]][25192] > HANDLER Request <UID: fefe638dbfef4aa1a20bc790e1d90fcc>: To write the training loop\n",
      "Value: <Storable: 244085>\n",
      "[2022-04-03T21:53:54.313862+0100][CRITICAL][logger]][25192] > HANDLER Request <UID: 1b292d873c9d48aa9800b1d364429d8b>: To run test and inference locally\n",
      "Value: <Storable: False>\n",
      "[2022-04-03T21:54:42.992227+0100][CRITICAL][logger]][25192] > HANDLER Request <UID: c994ca74a5f84b8db1141cbb59fe9f8e>: To write the training loop\n",
      "Value: <Storable: 244085>\n",
      "[2022-04-03T21:54:55.065989+0100][CRITICAL][logger]][25192] > HANDLER Request <UID: 3255c2197daf4a13ab85ade8fea4f4b2>: To write the training loop\n",
      "Value: <Storable: 244085>\n",
      "[2022-04-03T21:55:05.128399+0100][CRITICAL][logger]][25192] > HANDLER Request <UID: ac99722c628f4a48a4b13a9795d1b6aa>: To evaluate training progress\n",
      "Value: <Storable: 1.048223614692688>\n"
     ]
    }
   ],
   "source": [
    "duet.requests.add_handler(\n",
    "    action=\"accept\",\n",
    "    print_local=True,  # print the result in your notebook\n",
    ")"
   ]
  },
  {
   "cell_type": "code",
   "execution_count": null,
   "id": "assigned-tomato",
   "metadata": {},
   "outputs": [],
   "source": []
  }
 ],
 "metadata": {
  "kernelspec": {
   "display_name": "Python 3",
   "language": "python",
   "name": "python3"
  },
  "language_info": {
   "codemirror_mode": {
    "name": "ipython",
    "version": 3
   },
   "file_extension": ".py",
   "mimetype": "text/x-python",
   "name": "python",
   "nbconvert_exporter": "python",
   "pygments_lexer": "ipython3",
   "version": "3.8.12"
  }
 },
 "nbformat": 4,
 "nbformat_minor": 5
}
