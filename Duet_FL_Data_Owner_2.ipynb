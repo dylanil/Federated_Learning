{
 "cells": [
  {
   "cell_type": "markdown",
   "id": "continent-climb",
   "metadata": {},
   "source": [
    "# Part 1: Launch a Duet Server and upload data"
   ]
  },
  {
   "cell_type": "code",
   "execution_count": 1,
   "id": "parental-classics",
   "metadata": {},
   "outputs": [
    {
     "name": "stdout",
     "output_type": "stream",
     "text": [
      "🎤  🎸  ♪♪♪ Starting Duet ♫♫♫  🎻  🎹\n",
      "\n",
      "♫♫♫ >\u001b[93m DISCLAIMER\u001b[0m: \u001b[1mDuet is an experimental feature currently in beta.\n",
      "♫♫♫ > Use at your own risk.\n",
      "\u001b[0m\n",
      "\u001b[1m\n",
      "    > ❤️ \u001b[91mLove\u001b[0m \u001b[92mDuet\u001b[0m? \u001b[93mPlease\u001b[0m \u001b[94mconsider\u001b[0m \u001b[95msupporting\u001b[0m \u001b[91mour\u001b[0m \u001b[93mcommunity!\u001b[0m\n",
      "    > https://github.com/sponsors/OpenMined\u001b[1m\n",
      "\n",
      "♫♫♫ > Punching through firewall to OpenGrid Network Node at:\n",
      "♫♫♫ > http://ec2-18-218-7-180.us-east-2.compute.amazonaws.com:5000\n",
      "♫♫♫ >\n",
      "♫♫♫ > ...waiting for response from OpenGrid Network... \n",
      "♫♫♫ > \u001b[92mDONE!\u001b[0m\n",
      "♫♫♫ > Duet Server ID: \u001b[1m26889570d5e4eacb944cbcc6b0940b1e\u001b[0m\n",
      "\n",
      "♫♫♫ > \u001b[95mSTEP 1:\u001b[0m Send the following code to your Duet Partner!\n",
      "\n",
      "import syft as sy\n",
      "duet = sy.duet(\"\u001b[1m26889570d5e4eacb944cbcc6b0940b1e\u001b[0m\")\n",
      "\n",
      "♫♫♫ > \u001b[95mSTEP 2:\u001b[0m Ask your partner for their Client ID and enter it below!\n",
      "    > Error: Invalid Client ID. Please try again.\n",
      "\n",
      "♫♫♫ > Connecting...\n"
     ]
    },
    {
     "name": "stderr",
     "output_type": "stream",
     "text": [
      "C:\\Users\\dylan\\anaconda3\\envs\\new_pysyft\\lib\\site-packages\\aiortc\\rtcdtlstransport.py:211: CryptographyDeprecationWarning: This version of cryptography contains a temporary pyOpenSSL fallback path. Upgrade pyOpenSSL now.\n",
      "  _openssl_assert(lib.SSL_CTX_use_certificate(ctx, self._cert._x509) == 1)  # type: ignore\n",
      "C:\\Users\\dylan\\anaconda3\\envs\\new_pysyft\\lib\\site-packages\\aiortc\\rtcdtlstransport.py:186: CryptographyDeprecationWarning: This version of cryptography contains a temporary pyOpenSSL fallback path. Upgrade pyOpenSSL now.\n",
      "  value=certificate_digest(self._cert._x509),  # type: ignore\n"
     ]
    },
    {
     "name": "stdout",
     "output_type": "stream",
     "text": [
      "\n",
      "♫♫♫ > \u001b[92mCONNECTED!\u001b[0m\n",
      "\n",
      "♫♫♫ > DUET LIVE STATUS  -  Objects: 8  Requests: 0   Messages: 764  Request Handlers: 1                                 \r"
     ]
    }
   ],
   "source": [
    "import syft as sy\n",
    "duet = sy.launch_duet()"
   ]
  },
  {
   "cell_type": "code",
   "execution_count": 2,
   "id": "dying-switch",
   "metadata": {},
   "outputs": [],
   "source": [
    "import torch as th\n",
    "from torch.utils.data import Dataset, DataLoader\n",
    "import numpy as np\n",
    "import pandas as pd"
   ]
  },
  {
   "cell_type": "markdown",
   "id": "8ea3c4ef",
   "metadata": {},
   "source": [
    "Read in data"
   ]
  },
  {
   "cell_type": "code",
   "execution_count": 3,
   "id": "af4c5218",
   "metadata": {},
   "outputs": [],
   "source": [
    "df_X_train_1 = pd.read_csv('ETL/X_train_1.csv')\n",
    "df_X_val_1 = pd.read_csv('ETL/X_val_1.csv')\n",
    "df_y_train_1 = pd.read_csv('ETL/y_train_1.csv')\n",
    "df_y_val_1 = pd.read_csv('ETL/y_val_1.csv')"
   ]
  },
  {
   "cell_type": "markdown",
   "id": "77a3e652",
   "metadata": {},
   "source": [
    "Conver to NumPy array"
   ]
  },
  {
   "cell_type": "code",
   "execution_count": 4,
   "id": "abc01c44",
   "metadata": {},
   "outputs": [],
   "source": [
    "X_train_1_np = df_X_train_1.to_numpy()\n",
    "X_val_1_np = df_X_val_1.to_numpy()\n",
    "y_train_1_np = df_y_train_1.to_numpy()\n",
    "y_val_1_np = df_y_val_1.to_numpy()"
   ]
  },
  {
   "cell_type": "markdown",
   "id": "08615318",
   "metadata": {},
   "source": [
    "Convert to Torch tensor"
   ]
  },
  {
   "cell_type": "code",
   "execution_count": 5,
   "id": "2ec01f59",
   "metadata": {},
   "outputs": [],
   "source": [
    "X_train_1 = th.from_numpy(X_train_1_np).float()\n",
    "X_val_1 = th.from_numpy(X_val_1_np).float()\n",
    "y_train_1 = th.from_numpy(y_train_1_np).float()\n",
    "y_val_1 = th.from_numpy(y_val_1_np).float()"
   ]
  },
  {
   "cell_type": "code",
   "execution_count": 6,
   "id": "focused-error",
   "metadata": {},
   "outputs": [
    {
     "name": "stdout",
     "output_type": "stream",
     "text": [
      "`searchable` is deprecated please use `pointable` in future\n"
     ]
    }
   ],
   "source": [
    "#data = th.FloatTensor(np.array([5, 15, 25, 35, 45, 55]).reshape(-1, 1))\n",
    "\n",
    "X_train_1 = X_train_1.tag(\"DO2 training X data\")\n",
    "X_train_1 = X_train_1.describe(\"number of samples and features\")\n",
    "\n",
    "data_ptr = X_train_1.send(duet, searchable=True)"
   ]
  },
  {
   "cell_type": "code",
   "execution_count": 7,
   "id": "a8d2c344",
   "metadata": {},
   "outputs": [
    {
     "name": "stdout",
     "output_type": "stream",
     "text": [
      "`searchable` is deprecated please use `pointable` in future\n"
     ]
    }
   ],
   "source": [
    "y_train_1 = y_train_1.tag(\"DO2 training y data\")\n",
    "y_train_1 = y_train_1.describe(\"number of samples and features\")\n",
    "\n",
    "target_ptr = y_train_1.send(duet, searchable=True)"
   ]
  },
  {
   "cell_type": "code",
   "execution_count": 8,
   "id": "circular-commodity",
   "metadata": {},
   "outputs": [
    {
     "data": {
      "text/html": [
       "<div>\n",
       "<style scoped>\n",
       "    .dataframe tbody tr th:only-of-type {\n",
       "        vertical-align: middle;\n",
       "    }\n",
       "\n",
       "    .dataframe tbody tr th {\n",
       "        vertical-align: top;\n",
       "    }\n",
       "\n",
       "    .dataframe thead th {\n",
       "        text-align: right;\n",
       "    }\n",
       "</style>\n",
       "<table border=\"1\" class=\"dataframe\">\n",
       "  <thead>\n",
       "    <tr style=\"text-align: right;\">\n",
       "      <th></th>\n",
       "      <th>ID</th>\n",
       "      <th>Tags</th>\n",
       "      <th>Description</th>\n",
       "      <th>object_type</th>\n",
       "    </tr>\n",
       "  </thead>\n",
       "  <tbody>\n",
       "    <tr>\n",
       "      <th>0</th>\n",
       "      <td>&lt;UID: 8e811109aea846d3a94179e84012ca03&gt;</td>\n",
       "      <td>[DO2 training X data]</td>\n",
       "      <td>number of samples and features</td>\n",
       "      <td>&lt;class 'torch.Tensor'&gt;</td>\n",
       "    </tr>\n",
       "    <tr>\n",
       "      <th>1</th>\n",
       "      <td>&lt;UID: 8003218742484f7e8ec06b3ab324e92f&gt;</td>\n",
       "      <td>[DO2 training y data]</td>\n",
       "      <td>number of samples and features</td>\n",
       "      <td>&lt;class 'torch.Tensor'&gt;</td>\n",
       "    </tr>\n",
       "  </tbody>\n",
       "</table>\n",
       "</div>"
      ],
      "text/plain": [
       "                                        ID                   Tags  \\\n",
       "0  <UID: 8e811109aea846d3a94179e84012ca03>  [DO2 training X data]   \n",
       "1  <UID: 8003218742484f7e8ec06b3ab324e92f>  [DO2 training y data]   \n",
       "\n",
       "                      Description             object_type  \n",
       "0  number of samples and features  <class 'torch.Tensor'>  \n",
       "1  number of samples and features  <class 'torch.Tensor'>  "
      ]
     },
     "execution_count": 8,
     "metadata": {},
     "output_type": "execute_result"
    }
   ],
   "source": [
    "duet.store.pandas"
   ]
  },
  {
   "cell_type": "code",
   "execution_count": 9,
   "id": "thousand-borough",
   "metadata": {},
   "outputs": [
    {
     "name": "stderr",
     "output_type": "stream",
     "text": [
      "[2022-02-06T19:25:56.111565+0000][CRITICAL][logger]][57168] > HANDLER Request <UID: 37a7b94b24174c518f83e3847efc9a8e>: To evaluate training progress\n",
      "Value: <Storable: 0.866819441318512>\n",
      "[2022-02-06T19:25:56.321007+0000][CRITICAL][logger]][57168] > HANDLER Request <UID: 89ea820fcb494b8bb04e193f2736c760>: To evaluate training progress\n",
      "Value: <Storable: 0.2198343127965927>\n",
      "[2022-02-06T19:25:56.537426+0000][CRITICAL][logger]][57168] > HANDLER Request <UID: fe48c4952313434ba40ded6b0350ed1f>: To evaluate training progress\n",
      "Value: <Storable: 0.34583476185798645>\n",
      "[2022-02-06T19:25:56.759831+0000][CRITICAL][logger]][57168] > HANDLER Request <UID: c1b04a77e732426daf7842e198147e4c>: To evaluate training progress\n",
      "Value: <Storable: 0.38866788148880005>\n",
      "[2022-02-06T19:25:56.993208+0000][CRITICAL][logger]][57168] > HANDLER Request <UID: 311e382cb0274474a8186dd1c9af80eb>: To evaluate training progress\n",
      "Value: <Storable: 0.36773285269737244>\n",
      "[2022-02-06T19:25:57.227580+0000][CRITICAL][logger]][57168] > HANDLER Request <UID: 469601950b7d41aaab169b561dc7590c>: To evaluate training progress\n",
      "Value: <Storable: 0.31869301199913025>\n",
      "[2022-02-06T19:25:57.436023+0000][CRITICAL][logger]][57168] > HANDLER Request <UID: dffe651108e74c88b73a118de0ef6cca>: To evaluate training progress\n",
      "Value: <Storable: 0.26128965616226196>\n",
      "[2022-02-06T19:25:57.652443+0000][CRITICAL][logger]][57168] > HANDLER Request <UID: 06959c10ea6d4d20b083928bb4e99fa5>: To evaluate training progress\n",
      "Value: <Storable: 0.2231149971485138>\n",
      "[2022-02-06T19:25:57.844928+0000][CRITICAL][logger]][57168] > HANDLER Request <UID: fe4add34c30e42b39b39da9b48dbdf98>: To evaluate training progress\n",
      "Value: <Storable: 0.2449231892824173>\n",
      "[2022-02-06T19:25:58.049382+0000][CRITICAL][logger]][57168] > HANDLER Request <UID: 88d207b681a4496481771615e00830e9>: To evaluate training progress\n",
      "Value: <Storable: 0.27834591269493103>\n",
      "[2022-02-06T19:25:58.252837+0000][CRITICAL][logger]][57168] > HANDLER Request <UID: e4633417caf34b8290d9274ec2517b0a>: To evaluate training progress\n",
      "Value: <Storable: 0.2464400678873062>\n",
      "[2022-02-06T19:25:58.463275+0000][CRITICAL][logger]][57168] > HANDLER Request <UID: 94ce51af74e640cc96c9fec67d5be474>: To evaluate training progress\n",
      "Value: <Storable: 0.22350020706653595>\n",
      "[2022-02-06T19:25:58.663737+0000][CRITICAL][logger]][57168] > HANDLER Request <UID: ee6d0c83a0b04124907d7a58dda69428>: To evaluate training progress\n",
      "Value: <Storable: 0.22525842487812042>\n",
      "[2022-02-06T19:25:58.882155+0000][CRITICAL][logger]][57168] > HANDLER Request <UID: 5a89e99f25084c7e907814a09d358916>: To evaluate training progress\n",
      "Value: <Storable: 0.23436260223388672>\n",
      "[2022-02-06T19:25:59.101568+0000][CRITICAL][logger]][57168] > HANDLER Request <UID: fa1cb11f6153405f900b46c0717ab014>: To evaluate training progress\n",
      "Value: <Storable: 0.24199296534061432>\n",
      "[2022-02-06T19:25:59.301034+0000][CRITICAL][logger]][57168] > HANDLER Request <UID: 06aa7972164e4dc0a1047f6e74e2b61b>: To evaluate training progress\n",
      "Value: <Storable: 0.24152319133281708>\n",
      "[2022-02-06T19:25:59.502523+0000][CRITICAL][logger]][57168] > HANDLER Request <UID: 52d13a6aaf10451e89f2906e84999755>: To evaluate training progress\n",
      "Value: <Storable: 0.23684728145599365>\n",
      "[2022-02-06T19:25:59.707962+0000][CRITICAL][logger]][57168] > HANDLER Request <UID: e081b9bd7c2146ff8c8f64b90a54a2db>: To evaluate training progress\n",
      "Value: <Storable: 0.22808432579040527>\n",
      "[2022-02-06T19:25:59.913395+0000][CRITICAL][logger]][57168] > HANDLER Request <UID: b4504d8c0ce2408fb5addae0043744f5>: To evaluate training progress\n",
      "Value: <Storable: 0.22101826965808868>\n",
      "[2022-02-06T19:26:00.116851+0000][CRITICAL][logger]][57168] > HANDLER Request <UID: 0d1bd2a9c7e247229116b0b00f6b1f88>: To evaluate training progress\n",
      "Value: <Storable: 0.21924427151679993>\n",
      "[2022-02-06T19:26:00.338258+0000][CRITICAL][logger]][57168] > HANDLER Request <UID: 1584b0a2fc12424bb900767cbddb69fd>: To evaluate training progress\n",
      "Value: <Storable: 0.22245953977108002>\n",
      "[2022-02-06T19:26:00.534732+0000][CRITICAL][logger]][57168] > HANDLER Request <UID: 2fdb1dc8ec1044feacc40afdae8de18d>: To evaluate training progress\n",
      "Value: <Storable: 0.2273198962211609>\n",
      "[2022-02-06T19:26:00.737191+0000][CRITICAL][logger]][57168] > HANDLER Request <UID: c8de179c9e4847b5b9f9b082375c6be1>: To evaluate training progress\n",
      "Value: <Storable: 0.22881029546260834>\n",
      "[2022-02-06T19:26:00.947628+0000][CRITICAL][logger]][57168] > HANDLER Request <UID: c8535cac78b54ae68683e82bb82c6751>: To evaluate training progress\n",
      "Value: <Storable: 0.22510860860347748>\n",
      "[2022-02-06T19:26:01.161057+0000][CRITICAL][logger]][57168] > HANDLER Request <UID: ef6081094da14807852c00f8c8601e36>: To evaluate training progress\n",
      "Value: <Storable: 0.22009003162384033>\n",
      "[2022-02-06T19:26:01.517611+0000][CRITICAL][logger]][57168] > HANDLER Request <UID: eb05c63b13d74de0a8481395749a9fd9>:\n",
      "Value: <Storable: [Parameter containing:tensor([[-0.6695, -0.3289, -0.5277, ..., -0.5887, -0.4030, -0.3813],    [-0.4322, -0.6333, -0.6553, ..., -0.5350, -0.5634, -0.4677],    [-0.0273, -0.0320, 0.0659, ..., -0.8390, -0.1025, 0.4371],    ...,    [ 0.0813, 0.1252, -0.0410, ..., 0.3924, 0.4068, 0.4236],    [-0.4928, -0.4525, -0.6064, ..., -0.5419, -0.3980, -0.5594],    [-0.5131, -0.1080, -0.3874, ..., -0.1189, -0.1485, 0.1548]],    requires_grad=True), Parameter containing:tensor([-0.5267, -0.5487, 0.1208, -0.4643, -0.3141, -0.7089, 0.0686, -0.6706,     0.2371, -0.5729, -0.4055, -0.5863, 0.3319, -0.4578, -0.0125, -0.4956,    -0.4243, -0.5068, 0.3385, -0.6791, -0.2732, 0.1152, 0.4409, -0.5914,     0.4194, -0.5996, 0.4032, 0.2516, 0.2522, -0.4342, -0.6802],    requires_grad=True), Parameter containing:tensor([[ 0.3328, -0.4902, -0.0424, 0.2189, 0.4296, -0.4430, -0.0008, -0.4319,     -0.1350, 0.4970, -0.4381, 0.3171, -0.1710, 0.1660, -0.1035, -0.4788,     -0.4794, -0.5373, -0.1975, -0.5026, 0.5216, -0.0402, -0.2115, -0.4833,     -0.2596, -0.4527, -0.2336, -0.1314, -0.0627, -0.5143, -0.4907]],    requires_grad=True), Parameter containing:tensor([-0.4757], requires_grad=True)]>\n",
      "[2022-02-06T19:26:05.708664+0000][CRITICAL][logger]][57168] > HANDLER Request <UID: 7af10fda540746df93bc04ea694a1616>:\n",
      "Value: <Storable: 'in_features=39, out_features=31, bias=True'>\n",
      "[2022-02-06T19:26:05.851631+0000][CRITICAL][logger]][57168] > HANDLER Request <UID: 84c76af34d9147848e595d5afcc8f390>:\n",
      "Value: <Storable: OrderedDict([('weight', tensor([[-0.6695, -0.3289, -0.5277, ..., -0.5887, -0.4030, -0.3813],    [-0.4322, -0.6333, -0.6553, ..., -0.5350, -0.5634, -0.4677],    [-0.0273, -0.0320, 0.0659, ..., -0.8390, -0.1025, 0.4371],    ...,    [ 0.0813, 0.1252, -0.0410, ..., 0.3924, 0.4068, 0.4236],    [-0.4928, -0.4525, -0.6064, ..., -0.5419, -0.3980, -0.5594],    [-0.5131, -0.1080, -0.3874, ..., -0.1189, -0.1485, 0.1548]])), ('bias', tensor([-0.5267, -0.5487, 0.1208, -0.4643, -0.3141, -0.7089, 0.0686, -0.6706,     0.2371, -0.5729, -0.4055, -0.5863, 0.3319, -0.4578, -0.0125, -0.4956,    -0.4243, -0.5068, 0.3385, -0.6791, -0.2732, 0.1152, 0.4409, -0.5914,     0.4194, -0.5996, 0.4032, 0.2516, 0.2522, -0.4342, -0.6802]))])>\n",
      "[2022-02-06T19:26:05.983881+0000][CRITICAL][logger]][57168] > HANDLER Request <UID: ab87b4f78efd47438262267f5966fc1e>:\n",
      "Value: <Storable: 'in_features=31, out_features=1, bias=True'>\n",
      "[2022-02-06T19:26:06.108457+0000][CRITICAL][logger]][57168] > HANDLER Request <UID: 10bb225acdf74dd2ad6ffc8622d675d2>:\n",
      "Value: <Storable: OrderedDict([('weight', tensor([[ 0.3328, -0.4902, -0.0424, 0.2189, 0.4296, -0.4430, -0.0008, -0.4319,     -0.1350, 0.4970, -0.4381, 0.3171, -0.1710, 0.1660, -0.1035, -0.4788,     -0.4794, -0.5373, -0.1975, -0.5026, 0.5216, -0.0402, -0.2115, -0.4833,     -0.2596, -0.4527, -0.2336, -0.1314, -0.0627, -0.5143, -0.4907]])), ('bias', tensor([-0.4757]))])>\n",
      "[2022-02-06T19:26:07.219447+0000][CRITICAL][logger]][57168] > HANDLER Request <UID: f58434a483574714a78bcf149039ab5e>:\n",
      "Value: <Storable: 'p=0.1240939274430275, inplace=False'>\n",
      "[2022-02-06T19:26:07.344511+0000][CRITICAL][logger]][57168] > HANDLER Request <UID: d2d5c1534f6a47e9b7ce2e9f024df56d>:\n",
      "Value: <Storable: OrderedDict()>\n",
      "[2022-02-06T19:26:08.453767+0000][CRITICAL][logger]][57168] > HANDLER Request <UID: e2aa13c6e6a94b869682220d754ecd6d>:\n",
      "Value: <Storable: ''>\n",
      "[2022-02-06T19:26:08.580328+0000][CRITICAL][logger]][57168] > HANDLER Request <UID: 1f4bb15b1022415c97e54a5bdfc303bf>:\n",
      "Value: <Storable: OrderedDict()>\n"
     ]
    }
   ],
   "source": [
    "duet.requests.add_handler(\n",
    "    action=\"accept\",\n",
    "    print_local=True,  # print the result in your notebook\n",
    ")"
   ]
  },
  {
   "cell_type": "code",
   "execution_count": null,
   "id": "assigned-tomato",
   "metadata": {},
   "outputs": [],
   "source": []
  }
 ],
 "metadata": {
  "kernelspec": {
   "display_name": "Python 3",
   "language": "python",
   "name": "python3"
  },
  "language_info": {
   "codemirror_mode": {
    "name": "ipython",
    "version": 3
   },
   "file_extension": ".py",
   "mimetype": "text/x-python",
   "name": "python",
   "nbconvert_exporter": "python",
   "pygments_lexer": "ipython3",
   "version": "3.8.12"
  }
 },
 "nbformat": 4,
 "nbformat_minor": 5
}
