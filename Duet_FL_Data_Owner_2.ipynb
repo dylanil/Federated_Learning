{
 "cells": [
  {
   "cell_type": "markdown",
   "id": "continent-climb",
   "metadata": {},
   "source": [
    "# Part 1: Launch a Duet Server and upload data"
   ]
  },
  {
   "cell_type": "code",
   "execution_count": 1,
   "id": "parental-classics",
   "metadata": {},
   "outputs": [
    {
     "name": "stdout",
     "output_type": "stream",
     "text": [
      "🎤  🎸  ♪♪♪ Starting Duet ♫♫♫  🎻  🎹\n",
      "\n",
      "♫♫♫ >\u001b[93m DISCLAIMER\u001b[0m: \u001b[1mDuet is an experimental feature currently in beta.\n",
      "♫♫♫ > Use at your own risk.\n",
      "\u001b[0m\n",
      "\u001b[1m\n",
      "    > ❤️ \u001b[91mLove\u001b[0m \u001b[92mDuet\u001b[0m? \u001b[93mPlease\u001b[0m \u001b[94mconsider\u001b[0m \u001b[95msupporting\u001b[0m \u001b[91mour\u001b[0m \u001b[93mcommunity!\u001b[0m\n",
      "    > https://github.com/sponsors/OpenMined\u001b[1m\n",
      "\n",
      "♫♫♫ > Punching through firewall to OpenGrid Network Node at:\n",
      "♫♫♫ > http://ec2-18-218-7-180.us-east-2.compute.amazonaws.com:5000\n",
      "♫♫♫ >\n",
      "♫♫♫ > ...waiting for response from OpenGrid Network... \n",
      "♫♫♫ > \u001b[92mDONE!\u001b[0m\n",
      "♫♫♫ > Duet Server ID: \u001b[1m30911b9f7d4b67dc2e1183952c61fdf2\u001b[0m\n",
      "\n",
      "♫♫♫ > \u001b[95mSTEP 1:\u001b[0m Send the following code to your Duet Partner!\n",
      "\n",
      "import syft as sy\n",
      "duet = sy.duet(\"\u001b[1m30911b9f7d4b67dc2e1183952c61fdf2\u001b[0m\")\n",
      "\n",
      "♫♫♫ > \u001b[95mSTEP 2:\u001b[0m Ask your partner for their Client ID and enter it below!\n",
      "    > Error: Invalid Client ID. Please try again.\n",
      "\n",
      "♫♫♫ > Connecting...\n"
     ]
    },
    {
     "name": "stderr",
     "output_type": "stream",
     "text": [
      "C:\\Users\\dylan\\anaconda3\\envs\\new_pysyft\\lib\\site-packages\\aiortc\\rtcdtlstransport.py:211: CryptographyDeprecationWarning: This version of cryptography contains a temporary pyOpenSSL fallback path. Upgrade pyOpenSSL now.\n",
      "  _openssl_assert(lib.SSL_CTX_use_certificate(ctx, self._cert._x509) == 1)  # type: ignore\n",
      "C:\\Users\\dylan\\anaconda3\\envs\\new_pysyft\\lib\\site-packages\\aiortc\\rtcdtlstransport.py:186: CryptographyDeprecationWarning: This version of cryptography contains a temporary pyOpenSSL fallback path. Upgrade pyOpenSSL now.\n",
      "  value=certificate_digest(self._cert._x509),  # type: ignore\n"
     ]
    },
    {
     "name": "stdout",
     "output_type": "stream",
     "text": [
      "\n",
      "♫♫♫ > \u001b[92mCONNECTED!\u001b[0m\n",
      "\n",
      "`searchable` is deprecated please use `pointable` in futurees: 0  Request Handlers: 0                                \n",
      "♫♫♫ > DUET LIVE STATUS  -  Objects: 3  Requests: 0   Messages: 9  Request Handlers: 1                                \r"
     ]
    }
   ],
   "source": [
    "import syft as sy\n",
    "duet = sy.launch_duet()"
   ]
  },
  {
   "cell_type": "code",
   "execution_count": 2,
   "id": "dying-switch",
   "metadata": {},
   "outputs": [],
   "source": [
    "import torch as th\n",
    "from torch.utils.data import Dataset, DataLoader\n",
    "import numpy as np\n",
    "import pandas as pd"
   ]
  },
  {
   "cell_type": "markdown",
   "id": "8ea3c4ef",
   "metadata": {},
   "source": [
    "Read in data"
   ]
  },
  {
   "cell_type": "code",
   "execution_count": 3,
   "id": "af4c5218",
   "metadata": {},
   "outputs": [],
   "source": [
    "df_X_train_1 = pd.read_csv('ETL/X_train_1.csv')\n",
    "df_X_val_1 = pd.read_csv('ETL/X_val_1.csv')\n",
    "df_y_train_1 = pd.read_csv('ETL/y_train_1.csv')\n",
    "df_y_val_1 = pd.read_csv('ETL/y_val_1.csv')"
   ]
  },
  {
   "cell_type": "markdown",
   "id": "77a3e652",
   "metadata": {},
   "source": [
    "Conver to NumPy array"
   ]
  },
  {
   "cell_type": "code",
   "execution_count": 4,
   "id": "abc01c44",
   "metadata": {},
   "outputs": [],
   "source": [
    "X_train_1_np = df_X_train_1.to_numpy()\n",
    "X_val_1_np = df_X_val_1.to_numpy()\n",
    "y_train_1_np = df_y_train_1.to_numpy()\n",
    "y_val_1_np = df_y_val_1.to_numpy()"
   ]
  },
  {
   "cell_type": "markdown",
   "id": "08615318",
   "metadata": {},
   "source": [
    "Convert to Torch tensor"
   ]
  },
  {
   "cell_type": "code",
   "execution_count": 5,
   "id": "2ec01f59",
   "metadata": {},
   "outputs": [],
   "source": [
    "X_train_1 = th.from_numpy(X_train_1_np).float()\n",
    "X_val_1 = th.from_numpy(X_val_1_np).float()\n",
    "y_train_1 = th.from_numpy(y_train_1_np).float()\n",
    "y_val_1 = th.from_numpy(y_val_1_np).float()"
   ]
  },
  {
   "cell_type": "code",
   "execution_count": 6,
   "id": "focused-error",
   "metadata": {},
   "outputs": [],
   "source": [
    "#data = th.FloatTensor(np.array([5, 15, 25, 35, 45, 55]).reshape(-1, 1))\n",
    "\n",
    "X_train_1 = X_train_1.tag(\"DO2 training X data\")\n",
    "X_train_1 = X_train_1.describe(\"number of samples and features\")\n",
    "\n",
    "data_ptr = X_train_1.send(duet, searchable=True)"
   ]
  },
  {
   "cell_type": "code",
   "execution_count": 7,
   "id": "a8d2c344",
   "metadata": {},
   "outputs": [
    {
     "name": "stdout",
     "output_type": "stream",
     "text": [
      "`searchable` is deprecated please use `pointable` in future\n"
     ]
    }
   ],
   "source": [
    "y_train_1 = y_train_1.tag(\"DO2 training y data\")\n",
    "y_train_1 = y_train_1.describe(\"number of samples and features\")\n",
    "\n",
    "target_ptr = y_train_1.send(duet, searchable=True)"
   ]
  },
  {
   "cell_type": "code",
   "execution_count": 8,
   "id": "a4a8757d",
   "metadata": {},
   "outputs": [
    {
     "name": "stdout",
     "output_type": "stream",
     "text": [
      "`searchable` is deprecated please use `pointable` in future\n"
     ]
    },
    {
     "data": {
      "text/plain": [
       "<syft.proxy.syft.lib.python.IntPointer at 0x170d6194610>"
      ]
     },
     "execution_count": 8,
     "metadata": {},
     "output_type": "execute_result"
    }
   ],
   "source": [
    "train_num_1 = sy.lib.python.Int(X_train_1.shape[0])\n",
    "train_num_1.tag(\"size of DO2's training data\")\n",
    "train_num_1.describe(\"size of DO2's training data\")\n",
    "train_num_1.send(duet, searchable=True)"
   ]
  },
  {
   "cell_type": "code",
   "execution_count": 9,
   "id": "circular-commodity",
   "metadata": {},
   "outputs": [
    {
     "data": {
      "text/html": [
       "<div>\n",
       "<style scoped>\n",
       "    .dataframe tbody tr th:only-of-type {\n",
       "        vertical-align: middle;\n",
       "    }\n",
       "\n",
       "    .dataframe tbody tr th {\n",
       "        vertical-align: top;\n",
       "    }\n",
       "\n",
       "    .dataframe thead th {\n",
       "        text-align: right;\n",
       "    }\n",
       "</style>\n",
       "<table border=\"1\" class=\"dataframe\">\n",
       "  <thead>\n",
       "    <tr style=\"text-align: right;\">\n",
       "      <th></th>\n",
       "      <th>ID</th>\n",
       "      <th>Tags</th>\n",
       "      <th>Description</th>\n",
       "      <th>object_type</th>\n",
       "    </tr>\n",
       "  </thead>\n",
       "  <tbody>\n",
       "    <tr>\n",
       "      <th>0</th>\n",
       "      <td>&lt;UID: 309955080a0b42cc9c3237a6055ae1d3&gt;</td>\n",
       "      <td>[DO2 training X data]</td>\n",
       "      <td>number of samples and features</td>\n",
       "      <td>&lt;class 'torch.Tensor'&gt;</td>\n",
       "    </tr>\n",
       "    <tr>\n",
       "      <th>1</th>\n",
       "      <td>&lt;UID: 2786996872a845dd9be1d6c148bcf4c9&gt;</td>\n",
       "      <td>[DO2 training y data]</td>\n",
       "      <td>number of samples and features</td>\n",
       "      <td>&lt;class 'torch.Tensor'&gt;</td>\n",
       "    </tr>\n",
       "    <tr>\n",
       "      <th>2</th>\n",
       "      <td>&lt;UID: 45673a5204fb4829bf18200b181510ab&gt;</td>\n",
       "      <td>[size of DO2's training data]</td>\n",
       "      <td>size of DO2's training data</td>\n",
       "      <td>&lt;class 'syft.lib.python.Int'&gt;</td>\n",
       "    </tr>\n",
       "  </tbody>\n",
       "</table>\n",
       "</div>"
      ],
      "text/plain": [
       "                                        ID                           Tags  \\\n",
       "0  <UID: 309955080a0b42cc9c3237a6055ae1d3>          [DO2 training X data]   \n",
       "1  <UID: 2786996872a845dd9be1d6c148bcf4c9>          [DO2 training y data]   \n",
       "2  <UID: 45673a5204fb4829bf18200b181510ab>  [size of DO2's training data]   \n",
       "\n",
       "                      Description                    object_type  \n",
       "0  number of samples and features         <class 'torch.Tensor'>  \n",
       "1  number of samples and features         <class 'torch.Tensor'>  \n",
       "2     size of DO2's training data  <class 'syft.lib.python.Int'>  "
      ]
     },
     "execution_count": 9,
     "metadata": {},
     "output_type": "execute_result"
    }
   ],
   "source": [
    "duet.store.pandas"
   ]
  },
  {
   "cell_type": "code",
   "execution_count": 10,
   "id": "thousand-borough",
   "metadata": {},
   "outputs": [],
   "source": [
    "duet.requests.add_handler(\n",
    "    action=\"accept\",\n",
    "    print_local=True,  # print the result in your notebook\n",
    ")"
   ]
  },
  {
   "cell_type": "code",
   "execution_count": null,
   "id": "assigned-tomato",
   "metadata": {},
   "outputs": [],
   "source": []
  }
 ],
 "metadata": {
  "kernelspec": {
   "display_name": "Python 3",
   "language": "python",
   "name": "python3"
  },
  "language_info": {
   "codemirror_mode": {
    "name": "ipython",
    "version": 3
   },
   "file_extension": ".py",
   "mimetype": "text/x-python",
   "name": "python",
   "nbconvert_exporter": "python",
   "pygments_lexer": "ipython3",
   "version": "3.8.12"
  }
 },
 "nbformat": 4,
 "nbformat_minor": 5
}
