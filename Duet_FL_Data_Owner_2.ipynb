{
 "cells": [
  {
   "cell_type": "markdown",
   "id": "continent-climb",
   "metadata": {},
   "source": [
    "# Part 1: Launch a Duet Server and upload data"
   ]
  },
  {
   "cell_type": "code",
   "execution_count": 1,
   "id": "parental-classics",
   "metadata": {},
   "outputs": [
    {
     "name": "stdout",
     "output_type": "stream",
     "text": [
      "🎤  🎸  ♪♪♪ Starting Duet ♫♫♫  🎻  🎹\n",
      "\n",
      "♫♫♫ >\u001b[93m DISCLAIMER\u001b[0m: \u001b[1mDuet is an experimental feature currently in beta.\n",
      "♫♫♫ > Use at your own risk.\n",
      "\u001b[0m\n",
      "\u001b[1m\n",
      "    > ❤️ \u001b[91mLove\u001b[0m \u001b[92mDuet\u001b[0m? \u001b[93mPlease\u001b[0m \u001b[94mconsider\u001b[0m \u001b[95msupporting\u001b[0m \u001b[91mour\u001b[0m \u001b[93mcommunity!\u001b[0m\n",
      "    > https://github.com/sponsors/OpenMined\u001b[1m\n",
      "\n",
      "♫♫♫ > Punching through firewall to OpenGrid Network Node at:\n",
      "♫♫♫ > http://ec2-18-218-7-180.us-east-2.compute.amazonaws.com:5000\n",
      "♫♫♫ >\n",
      "♫♫♫ > ...waiting for response from OpenGrid Network... \n",
      "♫♫♫ > \u001b[92mDONE!\u001b[0m\n",
      "♫♫♫ > Duet Server ID: \u001b[1mc428f674d926eb340a98d6ce00d07bfd\u001b[0m\n",
      "\n",
      "♫♫♫ > \u001b[95mSTEP 1:\u001b[0m Send the following code to your Duet Partner!\n",
      "\n",
      "import syft as sy\n",
      "duet = sy.duet(\"\u001b[1mc428f674d926eb340a98d6ce00d07bfd\u001b[0m\")\n",
      "\n",
      "♫♫♫ > \u001b[95mSTEP 2:\u001b[0m Ask your partner for their Client ID and enter it below!\n",
      "\n",
      "♫♫♫ > Connecting...\n"
     ]
    },
    {
     "name": "stderr",
     "output_type": "stream",
     "text": [
      "C:\\Users\\dylan\\anaconda3\\envs\\new_pysyft\\lib\\site-packages\\aiortc\\rtcdtlstransport.py:211: CryptographyDeprecationWarning: This version of cryptography contains a temporary pyOpenSSL fallback path. Upgrade pyOpenSSL now.\n",
      "  _openssl_assert(lib.SSL_CTX_use_certificate(ctx, self._cert._x509) == 1)  # type: ignore\n",
      "C:\\Users\\dylan\\anaconda3\\envs\\new_pysyft\\lib\\site-packages\\aiortc\\rtcdtlstransport.py:186: CryptographyDeprecationWarning: This version of cryptography contains a temporary pyOpenSSL fallback path. Upgrade pyOpenSSL now.\n",
      "  value=certificate_digest(self._cert._x509),  # type: ignore\n"
     ]
    },
    {
     "name": "stdout",
     "output_type": "stream",
     "text": [
      "\n",
      "♫♫♫ > \u001b[92mCONNECTED!\u001b[0m\n",
      "\n",
      "`searchable` is deprecated please use `pointable` in futurees: 0  Request Handlers: 0                                \n",
      "`searchable` is deprecated please use `pointable` in futurees: 1  Request Handlers: 0                                \n",
      "`searchable` is deprecated please use `pointable` in futurees: 4  Request Handlers: 1                                \n",
      "♫♫♫ > DUET LIVE STATUS  *  Objects: 10  Requests: 0   Messages: 766  Request Handlers: 1                                \r"
     ]
    }
   ],
   "source": [
    "import syft as sy\n",
    "duet = sy.launch_duet()"
   ]
  },
  {
   "cell_type": "code",
   "execution_count": 2,
   "id": "dying-switch",
   "metadata": {},
   "outputs": [],
   "source": [
    "import torch as th\n",
    "from torch.utils.data import Dataset, DataLoader\n",
    "import numpy as np\n",
    "import pandas as pd"
   ]
  },
  {
   "cell_type": "markdown",
   "id": "8ea3c4ef",
   "metadata": {},
   "source": [
    "Read in data"
   ]
  },
  {
   "cell_type": "code",
   "execution_count": 3,
   "id": "af4c5218",
   "metadata": {},
   "outputs": [],
   "source": [
    "df_X_train_1 = pd.read_csv('ETL/X_train_1.csv')\n",
    "df_X_val_1 = pd.read_csv('ETL/X_val_1.csv')\n",
    "df_y_train_1 = pd.read_csv('ETL/y_train_1.csv')\n",
    "df_y_val_1 = pd.read_csv('ETL/y_val_1.csv')"
   ]
  },
  {
   "cell_type": "markdown",
   "id": "77a3e652",
   "metadata": {},
   "source": [
    "Conver to NumPy array"
   ]
  },
  {
   "cell_type": "code",
   "execution_count": 4,
   "id": "abc01c44",
   "metadata": {},
   "outputs": [],
   "source": [
    "X_train_1_np = df_X_train_1.to_numpy()\n",
    "X_val_1_np = df_X_val_1.to_numpy()\n",
    "y_train_1_np = df_y_train_1.to_numpy()\n",
    "y_val_1_np = df_y_val_1.to_numpy()"
   ]
  },
  {
   "cell_type": "markdown",
   "id": "08615318",
   "metadata": {},
   "source": [
    "Convert to Torch tensor"
   ]
  },
  {
   "cell_type": "code",
   "execution_count": 5,
   "id": "2ec01f59",
   "metadata": {},
   "outputs": [],
   "source": [
    "X_train_1 = th.from_numpy(X_train_1_np).float()\n",
    "X_val_1 = th.from_numpy(X_val_1_np).float()\n",
    "y_train_1 = th.from_numpy(y_train_1_np).float()\n",
    "y_val_1 = th.from_numpy(y_val_1_np).float()"
   ]
  },
  {
   "cell_type": "code",
   "execution_count": 6,
   "id": "focused-error",
   "metadata": {},
   "outputs": [],
   "source": [
    "#data = th.FloatTensor(np.array([5, 15, 25, 35, 45, 55]).reshape(-1, 1))\n",
    "\n",
    "X_train_1 = X_train_1.tag(\"DO2 training X data\")\n",
    "X_train_1 = X_train_1.describe(\"number of samples and features\")\n",
    "\n",
    "data_ptr = X_train_1.send(duet, searchable=True)"
   ]
  },
  {
   "cell_type": "code",
   "execution_count": 10,
   "id": "a8d2c344",
   "metadata": {},
   "outputs": [],
   "source": [
    "y_train_1 = y_train_1.tag(\"DO2 training y data\")\n",
    "y_train_1 = y_train_1.describe(\"number of samples and features\")\n",
    "\n",
    "target_ptr = y_train_1.send(duet, searchable=True)"
   ]
  },
  {
   "cell_type": "code",
   "execution_count": 11,
   "id": "circular-commodity",
   "metadata": {},
   "outputs": [
    {
     "data": {
      "text/html": [
       "<div>\n",
       "<style scoped>\n",
       "    .dataframe tbody tr th:only-of-type {\n",
       "        vertical-align: middle;\n",
       "    }\n",
       "\n",
       "    .dataframe tbody tr th {\n",
       "        vertical-align: top;\n",
       "    }\n",
       "\n",
       "    .dataframe thead th {\n",
       "        text-align: right;\n",
       "    }\n",
       "</style>\n",
       "<table border=\"1\" class=\"dataframe\">\n",
       "  <thead>\n",
       "    <tr style=\"text-align: right;\">\n",
       "      <th></th>\n",
       "      <th>ID</th>\n",
       "      <th>Tags</th>\n",
       "      <th>Description</th>\n",
       "      <th>object_type</th>\n",
       "    </tr>\n",
       "  </thead>\n",
       "  <tbody>\n",
       "    <tr>\n",
       "      <th>0</th>\n",
       "      <td>&lt;UID: 9d473476b9334f4bad413cca4a823e54&gt;</td>\n",
       "      <td>[DO2 training X data]</td>\n",
       "      <td>number of samples and features</td>\n",
       "      <td>&lt;class 'torch.Tensor'&gt;</td>\n",
       "    </tr>\n",
       "    <tr>\n",
       "      <th>1</th>\n",
       "      <td>&lt;UID: 098db24261474e639bf592added98ba1&gt;</td>\n",
       "      <td>[DO1 training y data]</td>\n",
       "      <td>number of samples and features</td>\n",
       "      <td>&lt;class 'torch.Tensor'&gt;</td>\n",
       "    </tr>\n",
       "    <tr>\n",
       "      <th>2</th>\n",
       "      <td>&lt;UID: cdc9f879951b461b94b9329afc830296&gt;</td>\n",
       "      <td>[DO2 training y data]</td>\n",
       "      <td>number of samples and features</td>\n",
       "      <td>&lt;class 'torch.Tensor'&gt;</td>\n",
       "    </tr>\n",
       "  </tbody>\n",
       "</table>\n",
       "</div>"
      ],
      "text/plain": [
       "                                        ID                   Tags  \\\n",
       "0  <UID: 9d473476b9334f4bad413cca4a823e54>  [DO2 training X data]   \n",
       "1  <UID: 098db24261474e639bf592added98ba1>  [DO1 training y data]   \n",
       "2  <UID: cdc9f879951b461b94b9329afc830296>  [DO2 training y data]   \n",
       "\n",
       "                      Description             object_type  \n",
       "0  number of samples and features  <class 'torch.Tensor'>  \n",
       "1  number of samples and features  <class 'torch.Tensor'>  \n",
       "2  number of samples and features  <class 'torch.Tensor'>  "
      ]
     },
     "execution_count": 11,
     "metadata": {},
     "output_type": "execute_result"
    },
    {
     "name": "stderr",
     "output_type": "stream",
     "text": [
      "[2022-01-04T19:57:53.078376+0000][CRITICAL][logger]][61380] > HANDLER Request <UID: 39f507880580409ab7a87d55aea7710e>: To evaluate training progress\n",
      "Value: <Storable: 0.9064223766326904>\n",
      "[2022-01-04T19:57:53.294801+0000][CRITICAL][logger]][61380] > HANDLER Request <UID: e12d5c8e61d441dc8f1c74f2bcd6359a>: To evaluate training progress\n",
      "Value: <Storable: 0.24471142888069153>\n",
      "[2022-01-04T19:57:53.531166+0000][CRITICAL][logger]][61380] > HANDLER Request <UID: 312a39df49c7451abbc1aeb909e11c49>: To evaluate training progress\n",
      "Value: <Storable: 0.2971583604812622>\n",
      "[2022-01-04T19:57:53.748586+0000][CRITICAL][logger]][61380] > HANDLER Request <UID: 12c40f77320a43a5868dabb641479661>: To evaluate training progress\n",
      "Value: <Storable: 0.3697357177734375>\n",
      "[2022-01-04T19:57:53.966006+0000][CRITICAL][logger]][61380] > HANDLER Request <UID: a96c96a03ea24f8d8c54ed293c722f95>: To evaluate training progress\n",
      "Value: <Storable: 0.3653009533882141>\n",
      "[2022-01-04T19:57:54.183425+0000][CRITICAL][logger]][61380] > HANDLER Request <UID: 707dc0024c154f8eb12525f0aace6db9>: To evaluate training progress\n",
      "Value: <Storable: 0.31817325949668884>\n",
      "[2022-01-04T19:57:54.385882+0000][CRITICAL][logger]][61380] > HANDLER Request <UID: 374e4c3baf594a98a7f53aecb7f06a81>: To evaluate training progress\n",
      "Value: <Storable: 0.26193881034851074>\n",
      "[2022-01-04T19:57:54.609285+0000][CRITICAL][logger]][61380] > HANDLER Request <UID: cf878d416a024fc8afa2ff0babd0c1be>: To evaluate training progress\n",
      "Value: <Storable: 0.22358867526054382>\n",
      "[2022-01-04T19:57:54.805760+0000][CRITICAL][logger]][61380] > HANDLER Request <UID: eb14907ba23b45b483d2b7defc0bc146>: To evaluate training progress\n",
      "Value: <Storable: 0.22770382463932037>\n",
      "[2022-01-04T19:57:55.014203+0000][CRITICAL][logger]][61380] > HANDLER Request <UID: 5ac1df58475541da824ddc44ef6d49cc>: To evaluate training progress\n",
      "Value: <Storable: 0.260432630777359>\n",
      "[2022-01-04T19:57:55.211676+0000][CRITICAL][logger]][61380] > HANDLER Request <UID: 88a30c1481604ef78489a87b18927f7c>: To evaluate training progress\n",
      "Value: <Storable: 0.2579480707645416>\n",
      "[2022-01-04T19:57:56.351628+0000][CRITICAL][logger]][61380] > HANDLER Request <UID: 0c9c9026f0524a5eb35abf0d18f364cb>: To evaluate training progress\n",
      "Value: <Storable: 0.2338380664587021>\n",
      "[2022-01-04T19:57:56.572040+0000][CRITICAL][logger]][61380] > HANDLER Request <UID: fccf40004304466bb6ce4837b06367f3>: To evaluate training progress\n",
      "Value: <Storable: 0.22008924186229706>\n",
      "[2022-01-04T19:57:56.781478+0000][CRITICAL][logger]][61380] > HANDLER Request <UID: 5c15e777367a42a5b0359c2acd6798a6>: To evaluate training progress\n",
      "Value: <Storable: 0.221822589635849>\n",
      "[2022-01-04T19:57:56.990919+0000][CRITICAL][logger]][61380] > HANDLER Request <UID: 10781d08531841d69756e067b35d21a3>: To evaluate training progress\n",
      "Value: <Storable: 0.2299414724111557>\n",
      "[2022-01-04T19:57:57.196370+0000][CRITICAL][logger]][61380] > HANDLER Request <UID: a194571b0c3547fca93f2a100ff97df1>: To evaluate training progress\n",
      "Value: <Storable: 0.23647285997867584>\n",
      "[2022-01-04T19:57:57.405812+0000][CRITICAL][logger]][61380] > HANDLER Request <UID: 22188fd6e27c479d97f1969e1f3062c2>: To evaluate training progress\n",
      "Value: <Storable: 0.2374122142791748>\n",
      "[2022-01-04T19:57:57.626224+0000][CRITICAL][logger]][61380] > HANDLER Request <UID: f1c6c368022d4842aa1aae6707b1de8b>: To evaluate training progress\n",
      "Value: <Storable: 0.23362837731838226>\n",
      "[2022-01-04T19:57:57.833667+0000][CRITICAL][logger]][61380] > HANDLER Request <UID: 1082d93f53e64eed9c13ab77d128f862>: To evaluate training progress\n",
      "Value: <Storable: 0.2257436364889145>\n",
      "[2022-01-04T19:57:58.032136+0000][CRITICAL][logger]][61380] > HANDLER Request <UID: b3ff21049d164d9eb318065e1fc03dfb>: To evaluate training progress\n",
      "Value: <Storable: 0.21958300471305847>\n",
      "[2022-01-04T19:57:58.236589+0000][CRITICAL][logger]][61380] > HANDLER Request <UID: c16acad43d6c4158b363c957a4ca2bd3>: To evaluate training progress\n",
      "Value: <Storable: 0.2174249142408371>\n",
      "[2022-01-04T19:57:58.439049+0000][CRITICAL][logger]][61380] > HANDLER Request <UID: 21ac89efb103441d835bf2ec5785ec20>: To evaluate training progress\n",
      "Value: <Storable: 0.21976684033870697>\n",
      "[2022-01-04T19:57:58.644500+0000][CRITICAL][logger]][61380] > HANDLER Request <UID: 677bc44a27ec44a29addc365fe34e5a8>: To evaluate training progress\n",
      "Value: <Storable: 0.22367244958877563>\n",
      "[2022-01-04T19:57:58.848980+0000][CRITICAL][logger]][61380] > HANDLER Request <UID: 106c85699b07416cb4eca16962386b1f>: To evaluate training progress\n",
      "Value: <Storable: 0.22623446583747864>\n",
      "[2022-01-04T19:57:59.059390+0000][CRITICAL][logger]][61380] > HANDLER Request <UID: 1c7fc17e105241238dc29882aad321aa>: To evaluate training progress\n",
      "Value: <Storable: 0.22400985658168793>\n",
      "[2022-01-04T19:58:04.073865+0000][CRITICAL][logger]][61380] > HANDLER Request <UID: c968a9d4de7d47c7bf4ae4b34a37c77e>:\n",
      "Value: <Storable: [Parameter containing:tensor([[-0.1647, 0.1446, 0.1084, ..., 0.3582, 0.0575, 0.3988],    [ 0.0259, 0.2932, 0.1088, ..., 0.3948, 0.2146, 0.2566],    [-0.5125, -0.5637, -0.6093, ..., -0.6320, -0.6412, -0.6013],    ...,    [-0.4098, -0.1406, -0.0457, ..., -0.0980, -0.0257, 0.3207],    [-0.5005, -0.4355, -0.5794, ..., -0.5760, -0.5419, -0.4155],    [-0.4580, -0.1692, -0.2266, ..., -0.2149, -0.1085, -0.3907]],    requires_grad=True), Parameter containing:tensor([ 0.1087, 0.3240, -0.5014, -0.3974, -0.5707, -0.2702, -0.4405, 0.1822,    -0.5354, -0.1807, -0.4372, -0.3927, 0.4832, -0.3691, -0.5347, 0.3747,    -0.6683, -0.6522, -0.4210, -0.5991, -0.6885, -0.6111, 0.3178, -0.5041,     0.1824, -0.4341, -0.3156, -0.4639, 0.1468, -0.6542, -0.1500],    requires_grad=True), Parameter containing:tensor([[-0.1952, -0.1631, -0.4131, -0.3847, -0.4581, 0.1143, -0.5070, -0.1814,     -0.4913, 0.4712, -0.5348, 0.5464, -0.2102, 0.3655, -0.4457, -0.1999,     -0.5385, -0.4720, -0.5029, -0.4442, -0.4127, -0.3995, -0.1588, -0.4952,     -0.0789, -0.5371, 0.4586, -0.5239, -0.1346, -0.4490, 0.2405]],    requires_grad=True), Parameter containing:tensor([-0.7184], requires_grad=True)]>\n",
      "[2022-01-04T19:58:12.639819+0000][CRITICAL][logger]][61380] > HANDLER Request <UID: 2995da0c6c3a4c4780434a9ec96f9bed>:\n",
      "Value: <Storable: 'in_features=39, out_features=31, bias=True'>\n",
      "[2022-01-04T19:58:12.768476+0000][CRITICAL][logger]][61380] > HANDLER Request <UID: a3a0cf41206f421ba6df752ecadb89d7>:\n",
      "Value: <Storable: OrderedDict([('weight', tensor([[-0.1647, 0.1446, 0.1084, ..., 0.3582, 0.0575, 0.3988],    [ 0.0259, 0.2932, 0.1088, ..., 0.3948, 0.2146, 0.2566],    [-0.5125, -0.5637, -0.6093, ..., -0.6320, -0.6412, -0.6013],    ...,    [-0.4098, -0.1406, -0.0457, ..., -0.0980, -0.0257, 0.3207],    [-0.5005, -0.4355, -0.5794, ..., -0.5760, -0.5419, -0.4155],    [-0.4580, -0.1692, -0.2266, ..., -0.2149, -0.1085, -0.3907]])), ('bias', tensor([ 0.1087, 0.3240, -0.5014, -0.3974, -0.5707, -0.2702, -0.4405, 0.1822,    -0.5354, -0.1807, -0.4372, -0.3927, 0.4832, -0.3691, -0.5347, 0.3747,    -0.6683, -0.6522, -0.4210, -0.5991, -0.6885, -0.6111, 0.3178, -0.5041,     0.1824, -0.4341, -0.3156, -0.4639, 0.1468, -0.6542, -0.1500]))])>\n",
      "[2022-01-04T19:58:12.894560+0000][CRITICAL][logger]][61380] > HANDLER Request <UID: 49862254820d4d5ab54701451abc81c4>:\n",
      "Value: <Storable: 'in_features=31, out_features=1, bias=True'>\n",
      "[2022-01-04T19:58:13.022027+0000][CRITICAL][logger]][61380] > HANDLER Request <UID: b63b5e4d11d84a86aed979fbc7bd06b8>:\n",
      "Value: <Storable: OrderedDict([('weight', tensor([[-0.1952, -0.1631, -0.4131, -0.3847, -0.4581, 0.1143, -0.5070, -0.1814,     -0.4913, 0.4712, -0.5348, 0.5464, -0.2102, 0.3655, -0.4457, -0.1999,     -0.5385, -0.4720, -0.5029, -0.4442, -0.4127, -0.3995, -0.1588, -0.4952,     -0.0789, -0.5371, 0.4586, -0.5239, -0.1346, -0.4490, 0.2405]])), ('bias', tensor([-0.7184]))])>\n",
      "[2022-01-04T19:58:14.150199+0000][CRITICAL][logger]][61380] > HANDLER Request <UID: 5d8890165f7e4406ac75b769e0fe4807>:\n",
      "Value: <Storable: 'p=0.1240939274430275, inplace=False'>\n",
      "[2022-01-04T19:58:14.282779+0000][CRITICAL][logger]][61380] > HANDLER Request <UID: 55857a0679704c3c8432ae8ef7155a27>:\n",
      "Value: <Storable: OrderedDict()>\n",
      "[2022-01-04T19:58:15.396620+0000][CRITICAL][logger]][61380] > HANDLER Request <UID: 17a4c9d4ca8940d2abbbcc845eeefa75>:\n",
      "Value: <Storable: ''>\n",
      "[2022-01-04T19:58:15.521133+0000][CRITICAL][logger]][61380] > HANDLER Request <UID: b819471a2a5149ba90fa86aa57e0ecdd>:\n",
      "Value: <Storable: OrderedDict()>\n"
     ]
    }
   ],
   "source": [
    "duet.store.pandas"
   ]
  },
  {
   "cell_type": "code",
   "execution_count": 9,
   "id": "thousand-borough",
   "metadata": {},
   "outputs": [],
   "source": [
    "duet.requests.add_handler(\n",
    "    action=\"accept\",\n",
    "    print_local=True,  # print the result in your notebook\n",
    ")"
   ]
  },
  {
   "cell_type": "code",
   "execution_count": null,
   "id": "assigned-tomato",
   "metadata": {},
   "outputs": [],
   "source": []
  }
 ],
 "metadata": {
  "kernelspec": {
   "display_name": "Python 3",
   "language": "python",
   "name": "python3"
  },
  "language_info": {
   "codemirror_mode": {
    "name": "ipython",
    "version": 3
   },
   "file_extension": ".py",
   "mimetype": "text/x-python",
   "name": "python",
   "nbconvert_exporter": "python",
   "pygments_lexer": "ipython3",
   "version": "3.8.12"
  }
 },
 "nbformat": 4,
 "nbformat_minor": 5
}
