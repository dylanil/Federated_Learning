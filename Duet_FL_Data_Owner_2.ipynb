{
 "cells": [
  {
   "cell_type": "markdown",
   "id": "continent-climb",
   "metadata": {},
   "source": [
    "# Part 1: Launch a Duet Server and upload data"
   ]
  },
  {
   "cell_type": "code",
   "execution_count": 1,
   "id": "parental-classics",
   "metadata": {},
   "outputs": [
    {
     "name": "stdout",
     "output_type": "stream",
     "text": [
      "🎤  🎸  ♪♪♪ Starting Duet ♫♫♫  🎻  🎹\n",
      "\n",
      "♫♫♫ >\u001b[93m DISCLAIMER\u001b[0m: \u001b[1mDuet is an experimental feature currently in beta.\n",
      "♫♫♫ > Use at your own risk.\n",
      "\u001b[0m\n",
      "\u001b[1m\n",
      "    > ❤️ \u001b[91mLove\u001b[0m \u001b[92mDuet\u001b[0m? \u001b[93mPlease\u001b[0m \u001b[94mconsider\u001b[0m \u001b[95msupporting\u001b[0m \u001b[91mour\u001b[0m \u001b[93mcommunity!\u001b[0m\n",
      "    > https://github.com/sponsors/OpenMined\u001b[1m\n",
      "\n",
      "♫♫♫ > Punching through firewall to OpenGrid Network Node at:\n",
      "♫♫♫ > http://ec2-18-218-7-180.us-east-2.compute.amazonaws.com:5000\n",
      "♫♫♫ >\n",
      "♫♫♫ > ...waiting for response from OpenGrid Network... \n",
      "♫♫♫ > \u001b[92mDONE!\u001b[0m\n",
      "♫♫♫ > Duet Server ID: \u001b[1m074b43b0b1cd328cc18e50d4b0bf7353\u001b[0m\n",
      "\n",
      "♫♫♫ > \u001b[95mSTEP 1:\u001b[0m Send the following code to your Duet Partner!\n",
      "\n",
      "import syft as sy\n",
      "duet = sy.duet(\"\u001b[1m074b43b0b1cd328cc18e50d4b0bf7353\u001b[0m\")\n",
      "\n",
      "♫♫♫ > \u001b[95mSTEP 2:\u001b[0m Ask your partner for their Client ID and enter it below!\n",
      "\n",
      "♫♫♫ > Connecting...\n"
     ]
    },
    {
     "name": "stderr",
     "output_type": "stream",
     "text": [
      "C:\\Users\\dylan\\anaconda3\\envs\\new_pysyft\\lib\\site-packages\\aiortc\\rtcdtlstransport.py:211: CryptographyDeprecationWarning: This version of cryptography contains a temporary pyOpenSSL fallback path. Upgrade pyOpenSSL now.\n",
      "  _openssl_assert(lib.SSL_CTX_use_certificate(ctx, self._cert._x509) == 1)  # type: ignore\n",
      "C:\\Users\\dylan\\anaconda3\\envs\\new_pysyft\\lib\\site-packages\\aiortc\\rtcdtlstransport.py:186: CryptographyDeprecationWarning: This version of cryptography contains a temporary pyOpenSSL fallback path. Upgrade pyOpenSSL now.\n",
      "  value=certificate_digest(self._cert._x509),  # type: ignore\n"
     ]
    },
    {
     "name": "stdout",
     "output_type": "stream",
     "text": [
      "\n",
      "♫♫♫ > \u001b[92mCONNECTED!\u001b[0m\n",
      "\n",
      "♫♫♫ > DUET LIVE STATUS  -  Objects: 9  Requests: 0   Messages: 763  Request Handlers: 1                                 \r"
     ]
    }
   ],
   "source": [
    "import syft as sy\n",
    "duet = sy.launch_duet()"
   ]
  },
  {
   "cell_type": "code",
   "execution_count": 2,
   "id": "dying-switch",
   "metadata": {},
   "outputs": [],
   "source": [
    "import torch as th\n",
    "from torch.utils.data import Dataset, DataLoader\n",
    "import numpy as np\n",
    "import pandas as pd"
   ]
  },
  {
   "cell_type": "markdown",
   "id": "8ea3c4ef",
   "metadata": {},
   "source": [
    "Read in data"
   ]
  },
  {
   "cell_type": "code",
   "execution_count": 3,
   "id": "af4c5218",
   "metadata": {},
   "outputs": [],
   "source": [
    "df_X_train_1 = pd.read_csv('ETL/X_train_1.csv')\n",
    "df_X_val_1 = pd.read_csv('ETL/X_val_1.csv')\n",
    "df_y_train_1 = pd.read_csv('ETL/y_train_1.csv')\n",
    "df_y_val_1 = pd.read_csv('ETL/y_val_1.csv')"
   ]
  },
  {
   "cell_type": "markdown",
   "id": "77a3e652",
   "metadata": {},
   "source": [
    "Conver to NumPy array"
   ]
  },
  {
   "cell_type": "code",
   "execution_count": 4,
   "id": "abc01c44",
   "metadata": {},
   "outputs": [],
   "source": [
    "X_train_1_np = df_X_train_1.to_numpy()\n",
    "X_val_1_np = df_X_val_1.to_numpy()\n",
    "y_train_1_np = df_y_train_1.to_numpy()\n",
    "y_val_1_np = df_y_val_1.to_numpy()"
   ]
  },
  {
   "cell_type": "markdown",
   "id": "08615318",
   "metadata": {},
   "source": [
    "Convert to Torch tensor"
   ]
  },
  {
   "cell_type": "code",
   "execution_count": 5,
   "id": "2ec01f59",
   "metadata": {},
   "outputs": [],
   "source": [
    "X_train_1 = th.from_numpy(X_train_1_np).float()\n",
    "X_val_1 = th.from_numpy(X_val_1_np).float()\n",
    "y_train_1 = th.from_numpy(y_train_1_np).float()\n",
    "y_val_1 = th.from_numpy(y_val_1_np).float()"
   ]
  },
  {
   "cell_type": "code",
   "execution_count": 6,
   "id": "focused-error",
   "metadata": {},
   "outputs": [
    {
     "name": "stdout",
     "output_type": "stream",
     "text": [
      "`searchable` is deprecated please use `pointable` in future\n"
     ]
    }
   ],
   "source": [
    "#data = th.FloatTensor(np.array([5, 15, 25, 35, 45, 55]).reshape(-1, 1))\n",
    "\n",
    "X_train_1 = X_train_1.tag(\"DO2 training X data\")\n",
    "X_train_1 = X_train_1.describe(\"number of samples and features\")\n",
    "\n",
    "data_ptr = X_train_1.send(duet, searchable=True)"
   ]
  },
  {
   "cell_type": "code",
   "execution_count": 7,
   "id": "a8d2c344",
   "metadata": {},
   "outputs": [
    {
     "name": "stdout",
     "output_type": "stream",
     "text": [
      "`searchable` is deprecated please use `pointable` in future\n"
     ]
    }
   ],
   "source": [
    "y_train_1 = y_train_1.tag(\"DO2 training y data\")\n",
    "y_train_1 = y_train_1.describe(\"number of samples and features\")\n",
    "\n",
    "target_ptr = y_train_1.send(duet, searchable=True)"
   ]
  },
  {
   "cell_type": "code",
   "execution_count": 8,
   "id": "circular-commodity",
   "metadata": {},
   "outputs": [
    {
     "data": {
      "text/html": [
       "<div>\n",
       "<style scoped>\n",
       "    .dataframe tbody tr th:only-of-type {\n",
       "        vertical-align: middle;\n",
       "    }\n",
       "\n",
       "    .dataframe tbody tr th {\n",
       "        vertical-align: top;\n",
       "    }\n",
       "\n",
       "    .dataframe thead th {\n",
       "        text-align: right;\n",
       "    }\n",
       "</style>\n",
       "<table border=\"1\" class=\"dataframe\">\n",
       "  <thead>\n",
       "    <tr style=\"text-align: right;\">\n",
       "      <th></th>\n",
       "      <th>ID</th>\n",
       "      <th>Tags</th>\n",
       "      <th>Description</th>\n",
       "      <th>object_type</th>\n",
       "    </tr>\n",
       "  </thead>\n",
       "  <tbody>\n",
       "    <tr>\n",
       "      <th>0</th>\n",
       "      <td>&lt;UID: e9cd85a51bc348479d8fdbccfd104e01&gt;</td>\n",
       "      <td>[DO2 training X data]</td>\n",
       "      <td>number of samples and features</td>\n",
       "      <td>&lt;class 'torch.Tensor'&gt;</td>\n",
       "    </tr>\n",
       "    <tr>\n",
       "      <th>1</th>\n",
       "      <td>&lt;UID: e8a06f7f0d0a40b38fe568d075f1bb97&gt;</td>\n",
       "      <td>[DO2 training y data]</td>\n",
       "      <td>number of samples and features</td>\n",
       "      <td>&lt;class 'torch.Tensor'&gt;</td>\n",
       "    </tr>\n",
       "  </tbody>\n",
       "</table>\n",
       "</div>"
      ],
      "text/plain": [
       "                                        ID                   Tags  \\\n",
       "0  <UID: e9cd85a51bc348479d8fdbccfd104e01>  [DO2 training X data]   \n",
       "1  <UID: e8a06f7f0d0a40b38fe568d075f1bb97>  [DO2 training y data]   \n",
       "\n",
       "                      Description             object_type  \n",
       "0  number of samples and features  <class 'torch.Tensor'>  \n",
       "1  number of samples and features  <class 'torch.Tensor'>  "
      ]
     },
     "execution_count": 8,
     "metadata": {},
     "output_type": "execute_result"
    }
   ],
   "source": [
    "duet.store.pandas"
   ]
  },
  {
   "cell_type": "code",
   "execution_count": 9,
   "id": "thousand-borough",
   "metadata": {},
   "outputs": [
    {
     "name": "stderr",
     "output_type": "stream",
     "text": [
      "[2022-01-04T20:13:21.462107+0000][CRITICAL][logger]][62708] > HANDLER Request <UID: a36ce15a8b3140c0b991c6702be0d3ba>: To evaluate training progress\n",
      "Value: <Storable: 1.121098279953003>\n",
      "[2022-01-04T20:13:21.683510+0000][CRITICAL][logger]][62708] > HANDLER Request <UID: 260359c17318415286c71a2182d799ab>: To evaluate training progress\n",
      "Value: <Storable: 0.25986993312835693>\n",
      "[2022-01-04T20:13:21.891981+0000][CRITICAL][logger]][62708] > HANDLER Request <UID: eeca85b065ce491ea0bee1f32c6a17db>: To evaluate training progress\n",
      "Value: <Storable: 0.32722070813179016>\n",
      "[2022-01-04T20:13:22.107377+0000][CRITICAL][logger]][62708] > HANDLER Request <UID: 469888e8ad5445c690bf270b005c659a>: To evaluate training progress\n",
      "Value: <Storable: 0.4022490680217743>\n",
      "[2022-01-04T20:13:22.319808+0000][CRITICAL][logger]][62708] > HANDLER Request <UID: 1573f00a9e4944019c9f81819695acdd>: To evaluate training progress\n",
      "Value: <Storable: 0.37463411688804626>\n",
      "[2022-01-04T20:13:22.526256+0000][CRITICAL][logger]][62708] > HANDLER Request <UID: 9b27f6a14246499fbbaa9e9308ba077d>: To evaluate training progress\n",
      "Value: <Storable: 0.3028140366077423>\n",
      "[2022-01-04T20:13:22.727719+0000][CRITICAL][logger]][62708] > HANDLER Request <UID: 1729aee3efcf4be2b532d283c4fc9c35>: To evaluate training progress\n",
      "Value: <Storable: 0.23840069770812988>\n",
      "[2022-01-04T20:13:22.933169+0000][CRITICAL][logger]][62708] > HANDLER Request <UID: c8de82bd5d824c9685d1a3a63ec67dd6>: To evaluate training progress\n",
      "Value: <Storable: 0.22499756515026093>\n",
      "[2022-01-04T20:13:23.147597+0000][CRITICAL][logger]][62708] > HANDLER Request <UID: c11799bdabae40358dc780031a6ef693>: To evaluate training progress\n",
      "Value: <Storable: 0.25599631667137146>\n",
      "[2022-01-04T20:13:23.361027+0000][CRITICAL][logger]][62708] > HANDLER Request <UID: 4e347109c99d4a17b8bfeab72484d162>: To evaluate training progress\n",
      "Value: <Storable: 0.2645457983016968>\n",
      "[2022-01-04T20:13:23.570466+0000][CRITICAL][logger]][62708] > HANDLER Request <UID: 94479dd97da64d2da100006d640fe98d>: To evaluate training progress\n",
      "Value: <Storable: 0.24533917009830475>\n",
      "[2022-01-04T20:13:23.774920+0000][CRITICAL][logger]][62708] > HANDLER Request <UID: dcf78ea870e440e8b9e146671fdf1655>: To evaluate training progress\n",
      "Value: <Storable: 0.22992955148220062>\n",
      "[2022-01-04T20:13:23.980371+0000][CRITICAL][logger]][62708] > HANDLER Request <UID: ffbd3dfdeaf34d08a541ab460b3c831b>: To evaluate training progress\n",
      "Value: <Storable: 0.22758378088474274>\n",
      "[2022-01-04T20:13:24.207762+0000][CRITICAL][logger]][62708] > HANDLER Request <UID: 1ee51b04bec74f13aa2107ec7eace6b4>: To evaluate training progress\n",
      "Value: <Storable: 0.2325691133737564>\n",
      "[2022-01-04T20:13:24.416207+0000][CRITICAL][logger]][62708] > HANDLER Request <UID: b1d5fbc4c142494f92c9d530a1196534>: To evaluate training progress\n",
      "Value: <Storable: 0.23885966837406158>\n",
      "[2022-01-04T20:13:24.615672+0000][CRITICAL][logger]][62708] > HANDLER Request <UID: d3e25e1a629c4965863e023501680b3e>: To evaluate training progress\n",
      "Value: <Storable: 0.2417428344488144>\n",
      "[2022-01-04T20:13:24.837081+0000][CRITICAL][logger]][62708] > HANDLER Request <UID: 306524e43314418d90c49361579033cc>: To evaluate training progress\n",
      "Value: <Storable: 0.24010485410690308>\n",
      "[2022-01-04T20:13:25.056495+0000][CRITICAL][logger]][62708] > HANDLER Request <UID: dd2609a7dd1a4044a587e4ace2cfb9f6>: To evaluate training progress\n",
      "Value: <Storable: 0.23455728590488434>\n",
      "[2022-01-04T20:13:25.274911+0000][CRITICAL][logger]][62708] > HANDLER Request <UID: 42227c9f3b1b4b86a29f3d5b0f91eec3>: To evaluate training progress\n",
      "Value: <Storable: 0.22784149646759033>\n",
      "[2022-01-04T20:13:25.479366+0000][CRITICAL][logger]][62708] > HANDLER Request <UID: 31bf9d0e12fe4c5996d3f015c7961410>: To evaluate training progress\n",
      "Value: <Storable: 0.2233542650938034>\n",
      "[2022-01-04T20:13:25.693792+0000][CRITICAL][logger]][62708] > HANDLER Request <UID: 84b9c9d85c4e42a8a50cff9d37129451>: To evaluate training progress\n",
      "Value: <Storable: 0.2233262062072754>\n",
      "[2022-01-04T20:13:25.895252+0000][CRITICAL][logger]][62708] > HANDLER Request <UID: 4a798f7643654159aae9b2a35e421051>: To evaluate training progress\n",
      "Value: <Storable: 0.22597098350524902>\n",
      "[2022-01-04T20:13:26.106690+0000][CRITICAL][logger]][62708] > HANDLER Request <UID: 648a2b008e4b4751aabe9ad6fb74563d>: To evaluate training progress\n",
      "Value: <Storable: 0.22887744009494781>\n",
      "[2022-01-04T20:13:26.299173+0000][CRITICAL][logger]][62708] > HANDLER Request <UID: 1904698b9b054d78baac04ccd722c47f>: To evaluate training progress\n",
      "Value: <Storable: 0.22832833230495453>\n",
      "[2022-01-04T20:13:26.507616+0000][CRITICAL][logger]][62708] > HANDLER Request <UID: 627ccc9d144144abb73fe41a0f046ca0>: To evaluate training progress\n",
      "Value: <Storable: 0.22498919069766998>\n",
      "[2022-01-04T20:13:32.612116+0000][CRITICAL][logger]][62708] > HANDLER Request <UID: f5e214b030e14e58bb6a306c0c3775e6>:\n",
      "Value: <Storable: [Parameter containing:tensor([[-0.6777, -0.6924, -0.5095, ..., -0.6455, -0.6708, -0.4534],    [-0.6215, -0.4037, -0.5063, ..., -0.5613, -0.4609, -0.4414],    [-0.3246, 0.2038, 0.0809, ..., 0.3675, 0.1745, 0.1327],    ...,    [ 0.0979, 0.3964, 0.3616, ..., 0.3854, 0.4520, 0.3914],    [-0.6369, -0.5278, -0.6016, ..., -0.4705, -0.7159, -0.5438],    [-0.4271, -0.5144, -0.6358, ..., -0.5577, -0.6738, -0.5335]],    requires_grad=True), Parameter containing:tensor([-0.5892, -0.5148, 0.3022, 0.0712, -0.5155, -0.4339, 0.1455, -0.2671,    -0.5944, -0.2842, 0.2178, -0.2296, -0.5389, -0.4755, -0.6836, -0.0050,    -0.1177, -0.3843, -0.4518, -0.2443, -0.4633, 0.3438, -0.4261, -0.1372,     0.4017, -0.5376, 0.2293, -0.6696, 0.5556, -0.4365, -0.5763],    requires_grad=True), Parameter containing:tensor([[-0.4868, -0.4487, -0.2310, -0.0909, -0.5542, 0.4023, -0.1473, 0.4070,     -0.5172, 0.2608, -0.1606, 0.3963, -0.4834, 0.3832, -0.4101, 0.0158,     -0.0277, 0.4393, -0.5542, 0.3627, -0.4947, -0.2116, -0.5409, -0.0720,     -0.2890, -0.4127, -0.1658, -0.4436, -0.2937, -0.3771, -0.4209]],    requires_grad=True), Parameter containing:tensor([-0.5048], requires_grad=True)]>\n",
      "[2022-01-04T20:13:45.632654+0000][CRITICAL][logger]][62708] > HANDLER Request <UID: 8d033180e48746ddbea970fead9f9e7b>:\n",
      "Value: <Storable: 'in_features=39, out_features=31, bias=True'>\n",
      "[2022-01-04T20:13:45.767616+0000][CRITICAL][logger]][62708] > HANDLER Request <UID: 051e5b0986c74f16913d2b77746817b1>:\n",
      "Value: <Storable: OrderedDict([('weight', tensor([[-0.6777, -0.6924, -0.5095, ..., -0.6455, -0.6708, -0.4534],    [-0.6215, -0.4037, -0.5063, ..., -0.5613, -0.4609, -0.4414],    [-0.3246, 0.2038, 0.0809, ..., 0.3675, 0.1745, 0.1327],    ...,    [ 0.0979, 0.3964, 0.3616, ..., 0.3854, 0.4520, 0.3914],    [-0.6369, -0.5278, -0.6016, ..., -0.4705, -0.7159, -0.5438],    [-0.4271, -0.5144, -0.6358, ..., -0.5577, -0.6738, -0.5335]])), ('bias', tensor([-0.5892, -0.5148, 0.3022, 0.0712, -0.5155, -0.4339, 0.1455, -0.2671,    -0.5944, -0.2842, 0.2178, -0.2296, -0.5389, -0.4755, -0.6836, -0.0050,    -0.1177, -0.3843, -0.4518, -0.2443, -0.4633, 0.3438, -0.4261, -0.1372,     0.4017, -0.5376, 0.2293, -0.6696, 0.5556, -0.4365, -0.5763]))])>\n",
      "[2022-01-04T20:13:45.890440+0000][CRITICAL][logger]][62708] > HANDLER Request <UID: dfa6a0c3f80c4171a9947a1bd401120b>:\n",
      "Value: <Storable: 'in_features=31, out_features=1, bias=True'>\n",
      "[2022-01-04T20:13:46.018615+0000][CRITICAL][logger]][62708] > HANDLER Request <UID: c8e7d4cb3a01401184193e5d5add0040>:\n",
      "Value: <Storable: OrderedDict([('weight', tensor([[-0.4868, -0.4487, -0.2310, -0.0909, -0.5542, 0.4023, -0.1473, 0.4070,     -0.5172, 0.2608, -0.1606, 0.3963, -0.4834, 0.3832, -0.4101, 0.0158,     -0.0277, 0.4393, -0.5542, 0.3627, -0.4947, -0.2116, -0.5409, -0.0720,     -0.2890, -0.4127, -0.1658, -0.4436, -0.2937, -0.3771, -0.4209]])), ('bias', tensor([-0.5048]))])>\n",
      "[2022-01-04T20:13:47.136829+0000][CRITICAL][logger]][62708] > HANDLER Request <UID: 63a92adf268a47ce8533c08c3ff66fd2>:\n",
      "Value: <Storable: 'p=0.1240939274430275, inplace=False'>\n",
      "[2022-01-04T20:13:47.266364+0000][CRITICAL][logger]][62708] > HANDLER Request <UID: 138d21b586ae4c23b84b088490633573>:\n",
      "Value: <Storable: OrderedDict()>\n",
      "[2022-01-04T20:13:48.377371+0000][CRITICAL][logger]][62708] > HANDLER Request <UID: 449babf5a6d341b4b5cec6e0d08f52d7>:\n",
      "Value: <Storable: ''>\n",
      "[2022-01-04T20:13:48.503335+0000][CRITICAL][logger]][62708] > HANDLER Request <UID: f5d8c2014c004d49aff8b0bc552473d0>:\n",
      "Value: <Storable: OrderedDict()>\n"
     ]
    }
   ],
   "source": [
    "duet.requests.add_handler(\n",
    "    action=\"accept\",\n",
    "    print_local=True,  # print the result in your notebook\n",
    ")"
   ]
  },
  {
   "cell_type": "code",
   "execution_count": null,
   "id": "assigned-tomato",
   "metadata": {},
   "outputs": [],
   "source": []
  }
 ],
 "metadata": {
  "kernelspec": {
   "display_name": "Python 3",
   "language": "python",
   "name": "python3"
  },
  "language_info": {
   "codemirror_mode": {
    "name": "ipython",
    "version": 3
   },
   "file_extension": ".py",
   "mimetype": "text/x-python",
   "name": "python",
   "nbconvert_exporter": "python",
   "pygments_lexer": "ipython3",
   "version": "3.8.12"
  }
 },
 "nbformat": 4,
 "nbformat_minor": 5
}
